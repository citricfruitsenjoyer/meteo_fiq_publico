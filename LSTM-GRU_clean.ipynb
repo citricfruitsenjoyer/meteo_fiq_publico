{
 "cells": [
  {
   "cell_type": "code",
   "execution_count": 2,
   "metadata": {},
   "outputs": [],
   "source": [
    "# import yfinance as yf   <- esto era para predecir stock, tristemente no funcionó y perdí la casa\n",
    "\n",
    "\n",
    "#cargar datos y calculos mágicos\n",
    "import numpy as np\n",
    "import pandas as pd\n",
    "\n",
    "#plots \n",
    "from matplotlib import pyplot as plt \n",
    "from plotly import graph_objects as go\n",
    "from plotly import express as px\n",
    "from plotly.subplots import make_subplots\n",
    "from plotly.offline import plot, iplot \n",
    "import seaborn as sns\n",
    "import time\n",
    "\n",
    "#tensorflow\n",
    "import tensorflow as tf\n",
    "from tensorflow.keras.models import Sequential\n",
    "from tensorflow.keras.layers import *\n",
    "from tensorflow.keras.callbacks import ModelCheckpoint\n",
    "from tensorflow.keras.losses import MeanSquaredError\n",
    "from tensorflow.keras.metrics import RootMeanSquaredError\n",
    "from tensorflow.keras.optimizers import Adam\n",
    "from tensorflow.keras.layers import Dense, LSTM,GRU\n",
    "# from tensorflow.keras.models import Sequential\n",
    "\n",
    "#escalar datos\n",
    "from sklearn.preprocessing import MinMaxScaler\n",
    "from sklearn.preprocessing import StandardScaler\n",
    "import joblib #guardar el scaler\n",
    "\n",
    "\n",
    "\n",
    "\n",
    "tf.random.set_seed(0)"
   ]
  },
  {
   "cell_type": "code",
   "execution_count": 3,
   "metadata": {},
   "outputs": [
    {
     "data": {
      "text/html": [
       "<div>\n",
       "<style scoped>\n",
       "    .dataframe tbody tr th:only-of-type {\n",
       "        vertical-align: middle;\n",
       "    }\n",
       "\n",
       "    .dataframe tbody tr th {\n",
       "        vertical-align: top;\n",
       "    }\n",
       "\n",
       "    .dataframe thead th {\n",
       "        text-align: right;\n",
       "    }\n",
       "</style>\n",
       "<table border=\"1\" class=\"dataframe\">\n",
       "  <thead>\n",
       "    <tr style=\"text-align: right;\">\n",
       "      <th></th>\n",
       "      <th>y</th>\n",
       "      <th>humext</th>\n",
       "      <th>pr</th>\n",
       "      <th>rafaga 10m</th>\n",
       "      <th>tasa precip</th>\n",
       "      <th>lluvia hoy</th>\n",
       "      <th>pres</th>\n",
       "      <th>cont lluvia</th>\n",
       "      <th>tempint</th>\n",
       "      <th>humint</th>\n",
       "      <th>...</th>\n",
       "      <th>radsolar</th>\n",
       "      <th>dir actual</th>\n",
       "      <th>lluvia desde 00:00</th>\n",
       "      <th>wx</th>\n",
       "      <th>wy</th>\n",
       "      <th>ds</th>\n",
       "      <th>day_sin</th>\n",
       "      <th>day_cos</th>\n",
       "      <th>year_sin</th>\n",
       "      <th>year_cos</th>\n",
       "    </tr>\n",
       "    <tr>\n",
       "      <th>ds</th>\n",
       "      <th></th>\n",
       "      <th></th>\n",
       "      <th></th>\n",
       "      <th></th>\n",
       "      <th></th>\n",
       "      <th></th>\n",
       "      <th></th>\n",
       "      <th></th>\n",
       "      <th></th>\n",
       "      <th></th>\n",
       "      <th></th>\n",
       "      <th></th>\n",
       "      <th></th>\n",
       "      <th></th>\n",
       "      <th></th>\n",
       "      <th></th>\n",
       "      <th></th>\n",
       "      <th></th>\n",
       "      <th></th>\n",
       "      <th></th>\n",
       "      <th></th>\n",
       "    </tr>\n",
       "  </thead>\n",
       "  <tbody>\n",
       "    <tr>\n",
       "      <th>2015-03-31 13:00:00</th>\n",
       "      <td>26.5</td>\n",
       "      <td>31.0</td>\n",
       "      <td>8.0</td>\n",
       "      <td>20.9</td>\n",
       "      <td>0.0</td>\n",
       "      <td>0.0</td>\n",
       "      <td>1014.5</td>\n",
       "      <td>3.3</td>\n",
       "      <td>26.6</td>\n",
       "      <td>48.0</td>\n",
       "      <td>...</td>\n",
       "      <td>462.0</td>\n",
       "      <td>211.500000</td>\n",
       "      <td>3.3</td>\n",
       "      <td>-8.863656</td>\n",
       "      <td>-7.049562</td>\n",
       "      <td>2015-03-31 13:00:00</td>\n",
       "      <td>0.000000</td>\n",
       "      <td>1.000000</td>\n",
       "      <td>0.000000</td>\n",
       "      <td>1.000000</td>\n",
       "    </tr>\n",
       "    <tr>\n",
       "      <th>2015-03-31 14:00:00</th>\n",
       "      <td>27.3</td>\n",
       "      <td>26.0</td>\n",
       "      <td>6.1</td>\n",
       "      <td>23.4</td>\n",
       "      <td>0.0</td>\n",
       "      <td>0.0</td>\n",
       "      <td>1013.6</td>\n",
       "      <td>3.3</td>\n",
       "      <td>26.6</td>\n",
       "      <td>45.0</td>\n",
       "      <td>...</td>\n",
       "      <td>175.0</td>\n",
       "      <td>193.483333</td>\n",
       "      <td>3.3</td>\n",
       "      <td>-10.551653</td>\n",
       "      <td>-3.243121</td>\n",
       "      <td>2015-03-31 14:00:00</td>\n",
       "      <td>0.258819</td>\n",
       "      <td>0.965926</td>\n",
       "      <td>0.000717</td>\n",
       "      <td>1.000000</td>\n",
       "    </tr>\n",
       "    <tr>\n",
       "      <th>2015-03-31 15:00:00</th>\n",
       "      <td>28.2</td>\n",
       "      <td>26.0</td>\n",
       "      <td>6.9</td>\n",
       "      <td>22.0</td>\n",
       "      <td>0.0</td>\n",
       "      <td>0.0</td>\n",
       "      <td>1012.9</td>\n",
       "      <td>3.3</td>\n",
       "      <td>25.8</td>\n",
       "      <td>45.0</td>\n",
       "      <td>...</td>\n",
       "      <td>0.0</td>\n",
       "      <td>188.616667</td>\n",
       "      <td>3.3</td>\n",
       "      <td>-11.587035</td>\n",
       "      <td>-2.221017</td>\n",
       "      <td>2015-03-31 15:00:00</td>\n",
       "      <td>0.500000</td>\n",
       "      <td>0.866025</td>\n",
       "      <td>0.001434</td>\n",
       "      <td>0.999999</td>\n",
       "    </tr>\n",
       "    <tr>\n",
       "      <th>2015-03-31 16:00:00</th>\n",
       "      <td>28.6</td>\n",
       "      <td>30.0</td>\n",
       "      <td>9.4</td>\n",
       "      <td>14.8</td>\n",
       "      <td>0.0</td>\n",
       "      <td>0.0</td>\n",
       "      <td>1012.0</td>\n",
       "      <td>3.3</td>\n",
       "      <td>25.8</td>\n",
       "      <td>45.0</td>\n",
       "      <td>...</td>\n",
       "      <td>0.0</td>\n",
       "      <td>193.116667</td>\n",
       "      <td>3.3</td>\n",
       "      <td>-8.023175</td>\n",
       "      <td>-1.828481</td>\n",
       "      <td>2015-03-31 16:00:00</td>\n",
       "      <td>0.707107</td>\n",
       "      <td>0.707107</td>\n",
       "      <td>0.002150</td>\n",
       "      <td>0.999998</td>\n",
       "    </tr>\n",
       "    <tr>\n",
       "      <th>2015-03-31 17:00:00</th>\n",
       "      <td>28.6</td>\n",
       "      <td>31.0</td>\n",
       "      <td>9.8</td>\n",
       "      <td>14.8</td>\n",
       "      <td>0.0</td>\n",
       "      <td>0.0</td>\n",
       "      <td>1011.9</td>\n",
       "      <td>3.3</td>\n",
       "      <td>25.8</td>\n",
       "      <td>42.0</td>\n",
       "      <td>...</td>\n",
       "      <td>0.0</td>\n",
       "      <td>174.400000</td>\n",
       "      <td>3.3</td>\n",
       "      <td>-8.238028</td>\n",
       "      <td>0.288265</td>\n",
       "      <td>2015-03-31 17:00:00</td>\n",
       "      <td>0.866025</td>\n",
       "      <td>0.500000</td>\n",
       "      <td>0.002867</td>\n",
       "      <td>0.999996</td>\n",
       "    </tr>\n",
       "    <tr>\n",
       "      <th>...</th>\n",
       "      <td>...</td>\n",
       "      <td>...</td>\n",
       "      <td>...</td>\n",
       "      <td>...</td>\n",
       "      <td>...</td>\n",
       "      <td>...</td>\n",
       "      <td>...</td>\n",
       "      <td>...</td>\n",
       "      <td>...</td>\n",
       "      <td>...</td>\n",
       "      <td>...</td>\n",
       "      <td>...</td>\n",
       "      <td>...</td>\n",
       "      <td>...</td>\n",
       "      <td>...</td>\n",
       "      <td>...</td>\n",
       "      <td>...</td>\n",
       "      <td>...</td>\n",
       "      <td>...</td>\n",
       "      <td>...</td>\n",
       "      <td>...</td>\n",
       "    </tr>\n",
       "    <tr>\n",
       "      <th>2024-11-12 08:00:00</th>\n",
       "      <td>15.7</td>\n",
       "      <td>57.0</td>\n",
       "      <td>7.2</td>\n",
       "      <td>7.2</td>\n",
       "      <td>0.0</td>\n",
       "      <td>0.0</td>\n",
       "      <td>1015.5</td>\n",
       "      <td>2583.3</td>\n",
       "      <td>25.2</td>\n",
       "      <td>30.0</td>\n",
       "      <td>...</td>\n",
       "      <td>335.0</td>\n",
       "      <td>292.700000</td>\n",
       "      <td>0.0</td>\n",
       "      <td>1.481261</td>\n",
       "      <td>-3.662468</td>\n",
       "      <td>2024-11-12 08:00:00</td>\n",
       "      <td>-0.965926</td>\n",
       "      <td>0.258819</td>\n",
       "      <td>-0.686536</td>\n",
       "      <td>-0.727096</td>\n",
       "    </tr>\n",
       "    <tr>\n",
       "      <th>2024-11-12 09:00:00</th>\n",
       "      <td>18.2</td>\n",
       "      <td>47.0</td>\n",
       "      <td>6.7</td>\n",
       "      <td>13.3</td>\n",
       "      <td>0.0</td>\n",
       "      <td>0.0</td>\n",
       "      <td>1015.5</td>\n",
       "      <td>2583.3</td>\n",
       "      <td>24.8</td>\n",
       "      <td>31.0</td>\n",
       "      <td>...</td>\n",
       "      <td>582.0</td>\n",
       "      <td>303.016667</td>\n",
       "      <td>0.0</td>\n",
       "      <td>3.299500</td>\n",
       "      <td>-5.099136</td>\n",
       "      <td>2024-11-12 09:00:00</td>\n",
       "      <td>-0.866025</td>\n",
       "      <td>0.500000</td>\n",
       "      <td>-0.687057</td>\n",
       "      <td>-0.726603</td>\n",
       "    </tr>\n",
       "    <tr>\n",
       "      <th>2024-11-12 10:00:00</th>\n",
       "      <td>19.9</td>\n",
       "      <td>37.0</td>\n",
       "      <td>4.8</td>\n",
       "      <td>14.8</td>\n",
       "      <td>0.0</td>\n",
       "      <td>0.0</td>\n",
       "      <td>1015.1</td>\n",
       "      <td>2583.3</td>\n",
       "      <td>25.3</td>\n",
       "      <td>29.0</td>\n",
       "      <td>...</td>\n",
       "      <td>796.0</td>\n",
       "      <td>301.133333</td>\n",
       "      <td>0.0</td>\n",
       "      <td>4.167287</td>\n",
       "      <td>-5.374683</td>\n",
       "      <td>2024-11-12 10:00:00</td>\n",
       "      <td>-0.707107</td>\n",
       "      <td>0.707107</td>\n",
       "      <td>-0.687578</td>\n",
       "      <td>-0.726111</td>\n",
       "    </tr>\n",
       "    <tr>\n",
       "      <th>2024-11-12 11:00:00</th>\n",
       "      <td>20.6</td>\n",
       "      <td>35.0</td>\n",
       "      <td>4.6</td>\n",
       "      <td>14.8</td>\n",
       "      <td>0.0</td>\n",
       "      <td>0.0</td>\n",
       "      <td>1014.3</td>\n",
       "      <td>2583.3</td>\n",
       "      <td>25.8</td>\n",
       "      <td>29.0</td>\n",
       "      <td>...</td>\n",
       "      <td>958.0</td>\n",
       "      <td>290.633333</td>\n",
       "      <td>0.0</td>\n",
       "      <td>4.125569</td>\n",
       "      <td>-5.212585</td>\n",
       "      <td>2024-11-12 11:00:00</td>\n",
       "      <td>-0.500000</td>\n",
       "      <td>0.866025</td>\n",
       "      <td>-0.688098</td>\n",
       "      <td>-0.725618</td>\n",
       "    </tr>\n",
       "    <tr>\n",
       "      <th>2024-11-12 12:00:00</th>\n",
       "      <td>21.4</td>\n",
       "      <td>31.0</td>\n",
       "      <td>3.6</td>\n",
       "      <td>18.4</td>\n",
       "      <td>0.0</td>\n",
       "      <td>0.0</td>\n",
       "      <td>1014.4</td>\n",
       "      <td>2583.3</td>\n",
       "      <td>25.8</td>\n",
       "      <td>29.0</td>\n",
       "      <td>...</td>\n",
       "      <td>1033.0</td>\n",
       "      <td>296.761905</td>\n",
       "      <td>0.0</td>\n",
       "      <td>5.902433</td>\n",
       "      <td>-4.568037</td>\n",
       "      <td>2024-11-12 12:00:00</td>\n",
       "      <td>-0.258819</td>\n",
       "      <td>0.965926</td>\n",
       "      <td>-0.688618</td>\n",
       "      <td>-0.725124</td>\n",
       "    </tr>\n",
       "  </tbody>\n",
       "</table>\n",
       "<p>84336 rows × 24 columns</p>\n",
       "</div>"
      ],
      "text/plain": [
       "                        y  humext   pr  rafaga 10m  tasa precip  lluvia hoy  \\\n",
       "ds                                                                            \n",
       "2015-03-31 13:00:00  26.5    31.0  8.0        20.9          0.0         0.0   \n",
       "2015-03-31 14:00:00  27.3    26.0  6.1        23.4          0.0         0.0   \n",
       "2015-03-31 15:00:00  28.2    26.0  6.9        22.0          0.0         0.0   \n",
       "2015-03-31 16:00:00  28.6    30.0  9.4        14.8          0.0         0.0   \n",
       "2015-03-31 17:00:00  28.6    31.0  9.8        14.8          0.0         0.0   \n",
       "...                   ...     ...  ...         ...          ...         ...   \n",
       "2024-11-12 08:00:00  15.7    57.0  7.2         7.2          0.0         0.0   \n",
       "2024-11-12 09:00:00  18.2    47.0  6.7        13.3          0.0         0.0   \n",
       "2024-11-12 10:00:00  19.9    37.0  4.8        14.8          0.0         0.0   \n",
       "2024-11-12 11:00:00  20.6    35.0  4.6        14.8          0.0         0.0   \n",
       "2024-11-12 12:00:00  21.4    31.0  3.6        18.4          0.0         0.0   \n",
       "\n",
       "                       pres  cont lluvia  tempint  humint  ...  radsolar  \\\n",
       "ds                                                         ...             \n",
       "2015-03-31 13:00:00  1014.5          3.3     26.6    48.0  ...     462.0   \n",
       "2015-03-31 14:00:00  1013.6          3.3     26.6    45.0  ...     175.0   \n",
       "2015-03-31 15:00:00  1012.9          3.3     25.8    45.0  ...       0.0   \n",
       "2015-03-31 16:00:00  1012.0          3.3     25.8    45.0  ...       0.0   \n",
       "2015-03-31 17:00:00  1011.9          3.3     25.8    42.0  ...       0.0   \n",
       "...                     ...          ...      ...     ...  ...       ...   \n",
       "2024-11-12 08:00:00  1015.5       2583.3     25.2    30.0  ...     335.0   \n",
       "2024-11-12 09:00:00  1015.5       2583.3     24.8    31.0  ...     582.0   \n",
       "2024-11-12 10:00:00  1015.1       2583.3     25.3    29.0  ...     796.0   \n",
       "2024-11-12 11:00:00  1014.3       2583.3     25.8    29.0  ...     958.0   \n",
       "2024-11-12 12:00:00  1014.4       2583.3     25.8    29.0  ...    1033.0   \n",
       "\n",
       "                     dir actual  lluvia desde 00:00         wx        wy  \\\n",
       "ds                                                                         \n",
       "2015-03-31 13:00:00  211.500000                 3.3  -8.863656 -7.049562   \n",
       "2015-03-31 14:00:00  193.483333                 3.3 -10.551653 -3.243121   \n",
       "2015-03-31 15:00:00  188.616667                 3.3 -11.587035 -2.221017   \n",
       "2015-03-31 16:00:00  193.116667                 3.3  -8.023175 -1.828481   \n",
       "2015-03-31 17:00:00  174.400000                 3.3  -8.238028  0.288265   \n",
       "...                         ...                 ...        ...       ...   \n",
       "2024-11-12 08:00:00  292.700000                 0.0   1.481261 -3.662468   \n",
       "2024-11-12 09:00:00  303.016667                 0.0   3.299500 -5.099136   \n",
       "2024-11-12 10:00:00  301.133333                 0.0   4.167287 -5.374683   \n",
       "2024-11-12 11:00:00  290.633333                 0.0   4.125569 -5.212585   \n",
       "2024-11-12 12:00:00  296.761905                 0.0   5.902433 -4.568037   \n",
       "\n",
       "                                     ds   day_sin   day_cos  year_sin  \\\n",
       "ds                                                                      \n",
       "2015-03-31 13:00:00 2015-03-31 13:00:00  0.000000  1.000000  0.000000   \n",
       "2015-03-31 14:00:00 2015-03-31 14:00:00  0.258819  0.965926  0.000717   \n",
       "2015-03-31 15:00:00 2015-03-31 15:00:00  0.500000  0.866025  0.001434   \n",
       "2015-03-31 16:00:00 2015-03-31 16:00:00  0.707107  0.707107  0.002150   \n",
       "2015-03-31 17:00:00 2015-03-31 17:00:00  0.866025  0.500000  0.002867   \n",
       "...                                 ...       ...       ...       ...   \n",
       "2024-11-12 08:00:00 2024-11-12 08:00:00 -0.965926  0.258819 -0.686536   \n",
       "2024-11-12 09:00:00 2024-11-12 09:00:00 -0.866025  0.500000 -0.687057   \n",
       "2024-11-12 10:00:00 2024-11-12 10:00:00 -0.707107  0.707107 -0.687578   \n",
       "2024-11-12 11:00:00 2024-11-12 11:00:00 -0.500000  0.866025 -0.688098   \n",
       "2024-11-12 12:00:00 2024-11-12 12:00:00 -0.258819  0.965926 -0.688618   \n",
       "\n",
       "                     year_cos  \n",
       "ds                             \n",
       "2015-03-31 13:00:00  1.000000  \n",
       "2015-03-31 14:00:00  1.000000  \n",
       "2015-03-31 15:00:00  0.999999  \n",
       "2015-03-31 16:00:00  0.999998  \n",
       "2015-03-31 17:00:00  0.999996  \n",
       "...                       ...  \n",
       "2024-11-12 08:00:00 -0.727096  \n",
       "2024-11-12 09:00:00 -0.726603  \n",
       "2024-11-12 10:00:00 -0.726111  \n",
       "2024-11-12 11:00:00 -0.725618  \n",
       "2024-11-12 12:00:00 -0.725124  \n",
       "\n",
       "[84336 rows x 24 columns]"
      ]
     },
     "execution_count": 3,
     "metadata": {},
     "output_type": "execute_result"
    }
   ],
   "source": [
    "df = pd.read_parquet('datos15til24resampledwxwy_sinhuecos.parquet.gzip')\n",
    "df"
   ]
  },
  {
   "cell_type": "code",
   "execution_count": 5,
   "metadata": {},
   "outputs": [
    {
     "data": {
      "text/html": [
       "<div>\n",
       "<style scoped>\n",
       "    .dataframe tbody tr th:only-of-type {\n",
       "        vertical-align: middle;\n",
       "    }\n",
       "\n",
       "    .dataframe tbody tr th {\n",
       "        vertical-align: top;\n",
       "    }\n",
       "\n",
       "    .dataframe thead th {\n",
       "        text-align: right;\n",
       "    }\n",
       "</style>\n",
       "<table border=\"1\" class=\"dataframe\">\n",
       "  <thead>\n",
       "    <tr style=\"text-align: right;\">\n",
       "      <th></th>\n",
       "      <th>y</th>\n",
       "      <th>wx</th>\n",
       "      <th>wy</th>\n",
       "      <th>humext</th>\n",
       "      <th>pr</th>\n",
       "      <th>day_cos</th>\n",
       "      <th>day_sin</th>\n",
       "      <th>year_cos</th>\n",
       "      <th>year_sin</th>\n",
       "    </tr>\n",
       "    <tr>\n",
       "      <th>ds</th>\n",
       "      <th></th>\n",
       "      <th></th>\n",
       "      <th></th>\n",
       "      <th></th>\n",
       "      <th></th>\n",
       "      <th></th>\n",
       "      <th></th>\n",
       "      <th></th>\n",
       "      <th></th>\n",
       "    </tr>\n",
       "  </thead>\n",
       "  <tbody>\n",
       "    <tr>\n",
       "      <th>2019-05-01 00:00:00</th>\n",
       "      <td>16.0</td>\n",
       "      <td>-0.084001</td>\n",
       "      <td>6.560992</td>\n",
       "      <td>50.0</td>\n",
       "      <td>5.6</td>\n",
       "      <td>-0.965926</td>\n",
       "      <td>2.588190e-01</td>\n",
       "      <td>0.865582</td>\n",
       "      <td>0.500766</td>\n",
       "    </tr>\n",
       "    <tr>\n",
       "      <th>2019-05-01 01:00:00</th>\n",
       "      <td>15.3</td>\n",
       "      <td>-0.543392</td>\n",
       "      <td>6.133613</td>\n",
       "      <td>55.0</td>\n",
       "      <td>6.3</td>\n",
       "      <td>-1.000000</td>\n",
       "      <td>6.672928e-13</td>\n",
       "      <td>0.865223</td>\n",
       "      <td>0.501387</td>\n",
       "    </tr>\n",
       "    <tr>\n",
       "      <th>2019-05-01 02:00:00</th>\n",
       "      <td>15.1</td>\n",
       "      <td>-0.629431</td>\n",
       "      <td>4.947524</td>\n",
       "      <td>52.0</td>\n",
       "      <td>5.3</td>\n",
       "      <td>-0.965926</td>\n",
       "      <td>-2.588190e-01</td>\n",
       "      <td>0.864864</td>\n",
       "      <td>0.502007</td>\n",
       "    </tr>\n",
       "    <tr>\n",
       "      <th>2019-05-01 03:00:00</th>\n",
       "      <td>14.5</td>\n",
       "      <td>0.967298</td>\n",
       "      <td>7.187465</td>\n",
       "      <td>56.0</td>\n",
       "      <td>5.8</td>\n",
       "      <td>-0.866025</td>\n",
       "      <td>-5.000000e-01</td>\n",
       "      <td>0.864504</td>\n",
       "      <td>0.502627</td>\n",
       "    </tr>\n",
       "    <tr>\n",
       "      <th>2019-05-01 04:00:00</th>\n",
       "      <td>14.3</td>\n",
       "      <td>0.953462</td>\n",
       "      <td>5.001802</td>\n",
       "      <td>60.0</td>\n",
       "      <td>6.6</td>\n",
       "      <td>-0.707107</td>\n",
       "      <td>-7.071068e-01</td>\n",
       "      <td>0.864143</td>\n",
       "      <td>0.503246</td>\n",
       "    </tr>\n",
       "    <tr>\n",
       "      <th>...</th>\n",
       "      <td>...</td>\n",
       "      <td>...</td>\n",
       "      <td>...</td>\n",
       "      <td>...</td>\n",
       "      <td>...</td>\n",
       "      <td>...</td>\n",
       "      <td>...</td>\n",
       "      <td>...</td>\n",
       "      <td>...</td>\n",
       "    </tr>\n",
       "    <tr>\n",
       "      <th>2022-12-17 09:00:00</th>\n",
       "      <td>20.8</td>\n",
       "      <td>1.571527</td>\n",
       "      <td>9.486415</td>\n",
       "      <td>55.0</td>\n",
       "      <td>11.4</td>\n",
       "      <td>0.500000</td>\n",
       "      <td>-8.660254e-01</td>\n",
       "      <td>-0.218354</td>\n",
       "      <td>-0.975870</td>\n",
       "    </tr>\n",
       "    <tr>\n",
       "      <th>2022-12-17 10:00:00</th>\n",
       "      <td>21.9</td>\n",
       "      <td>5.078725</td>\n",
       "      <td>7.393205</td>\n",
       "      <td>53.0</td>\n",
       "      <td>11.9</td>\n",
       "      <td>0.707107</td>\n",
       "      <td>-7.071068e-01</td>\n",
       "      <td>-0.217654</td>\n",
       "      <td>-0.976026</td>\n",
       "    </tr>\n",
       "    <tr>\n",
       "      <th>2022-12-17 11:00:00</th>\n",
       "      <td>22.9</td>\n",
       "      <td>6.642198</td>\n",
       "      <td>3.994818</td>\n",
       "      <td>51.0</td>\n",
       "      <td>12.3</td>\n",
       "      <td>0.866025</td>\n",
       "      <td>-5.000000e-01</td>\n",
       "      <td>-0.216955</td>\n",
       "      <td>-0.976182</td>\n",
       "    </tr>\n",
       "    <tr>\n",
       "      <th>2022-12-17 12:00:00</th>\n",
       "      <td>24.6</td>\n",
       "      <td>4.116813</td>\n",
       "      <td>7.250898</td>\n",
       "      <td>44.0</td>\n",
       "      <td>11.5</td>\n",
       "      <td>0.965926</td>\n",
       "      <td>-2.588190e-01</td>\n",
       "      <td>-0.216255</td>\n",
       "      <td>-0.976337</td>\n",
       "    </tr>\n",
       "    <tr>\n",
       "      <th>2022-12-17 13:00:00</th>\n",
       "      <td>25.3</td>\n",
       "      <td>5.922858</td>\n",
       "      <td>4.980244</td>\n",
       "      <td>44.0</td>\n",
       "      <td>12.2</td>\n",
       "      <td>1.000000</td>\n",
       "      <td>-1.187591e-12</td>\n",
       "      <td>-0.215555</td>\n",
       "      <td>-0.976492</td>\n",
       "    </tr>\n",
       "  </tbody>\n",
       "</table>\n",
       "<p>31838 rows × 9 columns</p>\n",
       "</div>"
      ],
      "text/plain": [
       "                        y        wx        wy  humext    pr   day_cos  \\\n",
       "ds                                                                      \n",
       "2019-05-01 00:00:00  16.0 -0.084001  6.560992    50.0   5.6 -0.965926   \n",
       "2019-05-01 01:00:00  15.3 -0.543392  6.133613    55.0   6.3 -1.000000   \n",
       "2019-05-01 02:00:00  15.1 -0.629431  4.947524    52.0   5.3 -0.965926   \n",
       "2019-05-01 03:00:00  14.5  0.967298  7.187465    56.0   5.8 -0.866025   \n",
       "2019-05-01 04:00:00  14.3  0.953462  5.001802    60.0   6.6 -0.707107   \n",
       "...                   ...       ...       ...     ...   ...       ...   \n",
       "2022-12-17 09:00:00  20.8  1.571527  9.486415    55.0  11.4  0.500000   \n",
       "2022-12-17 10:00:00  21.9  5.078725  7.393205    53.0  11.9  0.707107   \n",
       "2022-12-17 11:00:00  22.9  6.642198  3.994818    51.0  12.3  0.866025   \n",
       "2022-12-17 12:00:00  24.6  4.116813  7.250898    44.0  11.5  0.965926   \n",
       "2022-12-17 13:00:00  25.3  5.922858  4.980244    44.0  12.2  1.000000   \n",
       "\n",
       "                          day_sin  year_cos  year_sin  \n",
       "ds                                                     \n",
       "2019-05-01 00:00:00  2.588190e-01  0.865582  0.500766  \n",
       "2019-05-01 01:00:00  6.672928e-13  0.865223  0.501387  \n",
       "2019-05-01 02:00:00 -2.588190e-01  0.864864  0.502007  \n",
       "2019-05-01 03:00:00 -5.000000e-01  0.864504  0.502627  \n",
       "2019-05-01 04:00:00 -7.071068e-01  0.864143  0.503246  \n",
       "...                           ...       ...       ...  \n",
       "2022-12-17 09:00:00 -8.660254e-01 -0.218354 -0.975870  \n",
       "2022-12-17 10:00:00 -7.071068e-01 -0.217654 -0.976026  \n",
       "2022-12-17 11:00:00 -5.000000e-01 -0.216955 -0.976182  \n",
       "2022-12-17 12:00:00 -2.588190e-01 -0.216255 -0.976337  \n",
       "2022-12-17 13:00:00 -1.187591e-12 -0.215555 -0.976492  \n",
       "\n",
       "[31838 rows x 9 columns]"
      ]
     },
     "execution_count": 5,
     "metadata": {},
     "output_type": "execute_result"
    }
   ],
   "source": [
    "columnas_a_usar=['y','wx','wy','humext','pr',\n",
    "                 'day_cos','day_sin','year_cos','year_sin']\n",
    "\n",
    "df_input=df[columnas_a_usar]\n",
    "# df_input\n",
    "\n",
    "start_date = '2019-05-01 00:00:00'\n",
    "# end_date = '2021-08-20 13:13:00'\n",
    "#nuevo:\n",
    "end_date = '2022-12-17 13:00:00'\n",
    "\n",
    "# Filtrar el DataFrame usando .loc[]\n",
    "df_input = df_input[(df_input.index >= start_date) & (df_input.index <= end_date)]\n",
    "df_input"
   ]
  },
  {
   "cell_type": "code",
   "execution_count": 8,
   "metadata": {},
   "outputs": [
    {
     "data": {
      "text/plain": [
       "Text(0.5, 1.0, 'Correlation Heatmap')"
      ]
     },
     "execution_count": 8,
     "metadata": {},
     "output_type": "execute_result"
    },
    {
     "data": {
      "image/png": "[encoded data removed]",
      "text/plain": [
       "<Figure size 2000x800 with 2 Axes>"
      ]
     },
     "metadata": {},
     "output_type": "display_data"
    }
   ],
   "source": [
    "plt.figure(figsize=(20, 8))\n",
    "sns.heatmap(df_input.corr(), annot=True, cmap='coolwarm', fmt=\".2f\")\n",
    "plt.title('Correlation Heatmap')"
   ]
  },
  {
   "cell_type": "code",
   "execution_count": 9,
   "metadata": {},
   "outputs": [],
   "source": [
    "#constantes de corte\n",
    "len_100=len(df_input)\n",
    "len_70=int(len_100*.7)\n",
    "len_80=int(len_100*.8)\n",
    "len_90=int(len_100*.9)\n",
    "\n",
    "#constantes de predicción\n",
    "\n",
    "n_lookback=24*7\n",
    "n_forecast=24*2\n",
    "n_columnas=9"
   ]
  },
  {
   "cell_type": "code",
   "execution_count": null,
   "metadata": {},
   "outputs": [],
   "source": [
    "def array_to_X_y(array_datos,n_lookback=n_lookback,n_forecast=n_forecast):\n",
    "    # df_np= df.to_numpy()\n",
    "    #print(np.shape(df_np))\n",
    "    X=[]\n",
    "    y=[]\n",
    "    for i in range(len(array_datos)-n_lookback-n_forecast): #itera X - 168 - 48 por defecto\n",
    "        row = [r for r in array_datos[i:i+n_lookback]]      #hace un array de forma de (imax, n_lookback , columnas de input )\n",
    "        X.append(row)\n",
    "        label=[array_datos[i+n_lookback:i+n_lookback+n_forecast,0]] #esto cambiar por nombre de columna porque si no va a ser horrible \n",
    "                                                                    # 0 es temperatura\n",
    "        # label=[df_np[i+n_lookback:i+n_lookback+n_forecast,0],df_np[i+n_lookback:i+n_lookback+n_forecast,4]] #esto cambiar por nombre de columna porque si no va a ser horrible \n",
    "        #recordar cuál columna es cada índice\n",
    "        y.append(np.array(label).T)\n",
    "        # print(np.shape(y))\n",
    "    # print(y[-1])\n",
    "    return np.array(X),np.array(y)\n",
    "\n",
    "\n",
    "def plot_pred(fecha,dataframe,modelo,scaler,columna=0,n_columnas=n_columnas,horas_prediccion=n_forecast):\n",
    "    \"\"\"Plotea la predicción de dos días posteriores a la fecha indicada (en formato DD-MM-AAAA HH:00)\n",
    "    tomando una semana de datos anteriores con el modelo indicado\"\"\"\n",
    "    \"\"\" df_input tiene que tener un índice en formato fecha con frecuencia de hora \"\"\"\n",
    "    fecha_timestamp=pd.Timestamp(fecha)\n",
    "    añomes=f'{fecha_timestamp.year}-{fecha_timestamp.month}'\n",
    "    \n",
    "    feature=columnas_a_usar[columna]\n",
    "    \n",
    "    c=dataframe.loc[:fecha]\n",
    "    c=c[-n_lookback:]\n",
    "    c_array=c.to_numpy()\n",
    "    c_array=scaler.transform(c_array)\n",
    "    c_array=np.reshape(c_array,(1,*c_array.shape))\n",
    "    print(c_array.shape)\n",
    "    \n",
    "    pred=modelo.predict(c_array).flatten()            #datos escalados minmax(0,1)\n",
    "    \n",
    "    pred_input_scaler=np.column_stack([np.zeros(shape=(n_forecast,columna)), pred, np.zeros(shape=(n_forecast,n_columnas-1-columna))])\n",
    "    print(pred_input_scaler.shape)\n",
    "    \n",
    "    pred_scaled=scaler.inverse_transform(pred_input_scaler)[:,columna]\n",
    " \n",
    "    tiempo_lookback=c.index\n",
    "    tiempo_forecast=pd.date_range(start=fecha, periods=n_forecast, freq='h')\n",
    "    \n",
    "    tiempo_forecast+=pd.to_timedelta(1, unit='h') #añado una hora porque arranca a predecir después de la fecha indicada\n",
    "    \n",
    "    # print(tiempo_lookback[-1])\n",
    "    # print(tiempo_forecast)\n",
    "    \n",
    "    pic1=go.Scatter(x=tiempo_forecast[:horas_prediccion],y=pred_scaled[:horas_prediccion],name='pred')\n",
    "    pic2=go.Scatter(x=tiempo_lookback, y= c[feature],name='input')\n",
    "    pic3=go.Scatter(x=dataframe.loc[añomes][feature].index, y=dataframe.loc[añomes][feature],name='x_test_real')\n",
    "    fig = make_subplots(specs=[[{\"secondary_y\": False}]])\n",
    "    fig.add_trace(pic1)\n",
    "    fig.add_trace(pic2)\n",
    "    fig.add_trace(pic3)\n",
    "\n",
    "    fig['layout'].update(title = f'{feature}, predicción y real',xaxis=dict(tickangle=-90))\n",
    "    # fig['layout'].update(height = 800, width = 1400, title = f'{feature}, predicción y real',xaxis=dict(tickangle=-90))\n",
    "    iplot(fig)\n",
    "    # return pd.DataFrame({columnas_a_usar[columna]:pred_scaled},index=tiempo_forecast)\n",
    "    \n",
    "    \n",
    "    \n",
    "def get_pred(fecha,modelo,scaler,dataframe=df.copy()[columnas_a_usar],columna=0,n_columnas=n_columnas,horas_prediccion=n_forecast,verbose=False):\n",
    "   \n",
    "    \n",
    "    c=dataframe.loc[:fecha]\n",
    "    c=c[-n_lookback:]\n",
    "    c_array=c.to_numpy()\n",
    "    c_array=scaler.transform(c_array)\n",
    "    c_array=np.reshape(c_array,(1,*c_array.shape))\n",
    "    # print(c_array.shape)\n",
    "    \n",
    "    pred=modelo.predict(c_array,verbose=verbose).flatten()            #datos escalados minmax(0,1)\n",
    "    \n",
    "    pred_input_scaler=np.column_stack([np.zeros(shape=(n_forecast,columna)), pred, np.zeros(shape=(n_forecast,n_columnas-1-columna))])\n",
    "    # print(pred_input_scaler.shape)\n",
    "    \n",
    "    pred_scaled=scaler.inverse_transform(pred_input_scaler)[:,columna]\n",
    "    # print(pred_scaled.shape)\n",
    "    tiempo_forecast=pd.date_range(start=fecha, periods=n_forecast, freq='h')\n",
    "    \n",
    "    tiempo_forecast+=pd.to_timedelta(1, unit='h') #añado una hora porque arranca a predecir después de la fecha indicada\n",
    "    \n",
    "    return pred_scaled,tiempo_forecast"
   ]
  },
  {
   "cell_type": "code",
   "execution_count": 13,
   "metadata": {},
   "outputs": [
    {
     "data": {
      "text/plain": [
       "((31838, 9), (22286, 9), (3184, 9), (6368, 9))"
      ]
     },
     "execution_count": 13,
     "metadata": {},
     "output_type": "execute_result"
    }
   ],
   "source": [
    "\n",
    "\n",
    "\n",
    "df_np_full=df_input.to_numpy()                 #transformo a numpy para luego usar el scaler\n",
    "df_np_train=df_np_full.copy()[:len_70,:]            #hago una copia para evitar mutar el original cuando reescale\n",
    "df_np_val=df_np_full.copy()[len_70:len_90,:]\n",
    "df_np_test=df_np_full.copy()[len_90:,:]\n",
    "\n",
    "#esto para entrenar con + datos\n",
    "df_np80_train=df_np_full.copy()[:len_80,:]    \n",
    "df_np80_val=df_np_full.copy()[len_80:,:] \n",
    "\n",
    "\n",
    "df_np_full.shape , df_np_train.shape , df_np_test.shape , df_np_val.shape"
   ]
  },
  {
   "cell_type": "code",
   "execution_count": 14,
   "metadata": {},
   "outputs": [],
   "source": [
    "#escalo usando el dataset de entrenamiento\n",
    "#sinceramente no sé la motivación al 100% pero lo vi recomendado en un par de lugares, nunca escalar junto a\n",
    "#los datos de validación y testeo para el entrenamiento inicial\n",
    "train_scaler= MinMaxScaler()\n",
    "\n",
    "df_np_train_scaled = train_scaler.fit_transform(df_np_train)\n",
    "df_np_val_scaled = train_scaler.transform(df_np_val)\n",
    "df_np_test_scaled = train_scaler.transform(df_np_test)\n",
    "\n",
    "np80_scaler=MinMaxScaler()\n",
    "\n",
    "df_np80_train=np80_scaler.fit_transform(df_np80_train)\n",
    "df_np80_val=np80_scaler.transform(df_np80_val)\n",
    "\n",
    "# joblib.dump(np80_scaler, 'radsolar_np80_scaler.gz')"
   ]
  },
  {
   "cell_type": "code",
   "execution_count": 15,
   "metadata": {},
   "outputs": [
    {
     "name": "stdout",
     "output_type": "stream",
     "text": [
      "[[0.3559719 ]\n",
      " [0.35362998]\n",
      " [0.35128806]\n",
      " [0.3559719 ]\n",
      " [0.35831382]\n",
      " [0.36533958]\n",
      " [0.38407494]\n",
      " [0.40983607]\n",
      " [0.42857143]\n",
      " [0.470726  ]\n",
      " [0.46838407]\n",
      " [0.48477752]\n",
      " [0.47306792]\n",
      " [0.46604215]\n",
      " [0.470726  ]\n",
      " [0.48009368]\n",
      " [0.44964871]\n",
      " [0.43559719]\n",
      " [0.42622951]\n",
      " [0.4028103 ]\n",
      " [0.38173302]\n",
      " [0.37236534]\n",
      " [0.37002342]\n",
      " [0.38407494]\n",
      " [0.38875878]\n",
      " [0.38875878]\n",
      " [0.38875878]\n",
      " [0.38875878]\n",
      " [0.40515222]\n",
      " [0.43325527]\n",
      " [0.46604215]\n",
      " [0.53395785]\n",
      " [0.56674473]\n",
      " [0.58782201]\n",
      " [0.59016393]\n",
      " [0.61358314]\n",
      " [0.63934426]\n",
      " [0.60187354]\n",
      " [0.58079625]\n",
      " [0.56674473]\n",
      " [0.54098361]\n",
      " [0.52693208]\n",
      " [0.50351288]\n",
      " [0.49180328]\n",
      " [0.46604215]\n",
      " [0.43091335]\n",
      " [0.42388759]\n",
      " [0.41686183]]\n",
      "[[0.67681499]\n",
      " [0.72833724]\n",
      " [0.72833724]\n",
      " [0.76112412]\n",
      " [0.735363  ]\n",
      " [0.7236534 ]\n",
      " [0.72131148]\n",
      " [0.70725995]\n",
      " [0.66510539]\n",
      " [0.62295082]\n",
      " [0.60187354]\n",
      " [0.57611241]\n",
      " [0.53629977]\n",
      " [0.50351288]\n",
      " [0.47540984]\n",
      " [0.44730679]\n",
      " [0.42857143]\n",
      " [0.4028103 ]\n",
      " [0.41217799]\n",
      " [0.45199063]\n",
      " [0.5058548 ]\n",
      " [0.55503513]\n",
      " [0.60187354]\n",
      " [0.64637002]\n",
      " [0.68149883]\n",
      " [0.69555035]\n",
      " [0.70725995]\n",
      " [0.69555035]\n",
      " [0.68149883]\n",
      " [0.68852459]\n",
      " [0.66744731]\n",
      " [0.63700234]\n",
      " [0.60655738]\n",
      " [0.57611241]\n",
      " [0.56674473]\n",
      " [0.53864169]\n",
      " [0.51288056]\n",
      " [0.49180328]\n",
      " [0.46370023]\n",
      " [0.45199063]\n",
      " [0.42857143]\n",
      " [0.42154567]\n",
      " [0.41920375]\n",
      " [0.43325527]\n",
      " [0.48946136]\n",
      " [0.51522248]\n",
      " [0.53864169]\n",
      " [0.57845433]]\n",
      "[[0.72110553]\n",
      " [0.75125628]\n",
      " [0.77638191]\n",
      " [0.80150754]\n",
      " [0.76130653]\n",
      " [0.75879397]\n",
      " [0.74371859]\n",
      " [0.70603015]\n",
      " [0.67085427]\n",
      " [0.64321608]\n",
      " [0.6281407 ]\n",
      " [0.60050251]\n",
      " [0.59296482]\n",
      " [0.57537688]\n",
      " [0.55527638]\n",
      " [0.54020101]\n",
      " [0.52261307]\n",
      " [0.51005025]\n",
      " [0.53015075]\n",
      " [0.57035176]\n",
      " [0.6080402 ]\n",
      " [0.64321608]\n",
      " [0.6959799 ]\n",
      " [0.75879397]\n",
      " [0.79648241]\n",
      " [0.81407035]\n",
      " [0.84170854]\n",
      " [0.87688442]\n",
      " [0.86432161]\n",
      " [0.85678392]\n",
      " [0.8241206 ]\n",
      " [0.79648241]\n",
      " [0.78140704]\n",
      " [0.51758794]\n",
      " [0.51005025]\n",
      " [0.50251256]\n",
      " [0.49497487]\n",
      " [0.49497487]\n",
      " [0.49497487]\n",
      " [0.48994975]\n",
      " [0.49497487]\n",
      " [0.4798995 ]\n",
      " [0.48241206]\n",
      " [0.48743719]\n",
      " [0.49497487]\n",
      " [0.54773869]\n",
      " [0.59296482]\n",
      " [0.61557789]]\n",
      "[[0.33919598]\n",
      " [0.31658291]\n",
      " [0.29899497]\n",
      " [0.27638191]\n",
      " [0.24874372]\n",
      " [0.25376884]\n",
      " [0.2361809 ]\n",
      " [0.24874372]\n",
      " [0.21105528]\n",
      " [0.20603015]\n",
      " [0.17336683]\n",
      " [0.2160804 ]\n",
      " [0.22361809]\n",
      " [0.31909548]\n",
      " [0.40201005]\n",
      " [0.45728643]\n",
      " [0.43718593]\n",
      " [0.47487437]\n",
      " [0.46733668]\n",
      " [0.50502513]\n",
      " [0.5       ]\n",
      " [0.47487437]\n",
      " [0.42964824]\n",
      " [0.40201005]\n",
      " [0.37939698]\n",
      " [0.35427136]\n",
      " [0.3241206 ]\n",
      " [0.3040201 ]\n",
      " [0.30150754]\n",
      " [0.27889447]\n",
      " [0.26884422]\n",
      " [0.26633166]\n",
      " [0.25125628]\n",
      " [0.24371859]\n",
      " [0.24623116]\n",
      " [0.24371859]\n",
      " [0.24623116]\n",
      " [0.27638191]\n",
      " [0.3040201 ]\n",
      " [0.3241206 ]\n",
      " [0.34924623]\n",
      " [0.35678392]\n",
      " [0.37437186]\n",
      " [0.3718593 ]\n",
      " [0.38190955]\n",
      " [0.35929648]\n",
      " [0.33165829]\n",
      " [0.30904523]]\n",
      "[[0.72613065]\n",
      " [0.78140704]\n",
      " [0.78140704]\n",
      " [0.81658291]\n",
      " [0.78894472]\n",
      " [0.77638191]\n",
      " [0.77386935]\n",
      " [0.75879397]\n",
      " [0.71356784]\n",
      " [0.66834171]\n",
      " [0.64572864]\n",
      " [0.61809045]\n",
      " [0.57537688]\n",
      " [0.54020101]\n",
      " [0.51005025]\n",
      " [0.4798995 ]\n",
      " [0.45979899]\n",
      " [0.4321608 ]\n",
      " [0.44221106]\n",
      " [0.48492462]\n",
      " [0.54271357]\n",
      " [0.59547739]\n",
      " [0.64572864]\n",
      " [0.69346734]\n",
      " [0.73115578]\n",
      " [0.74623116]\n",
      " [0.75879397]\n",
      " [0.74623116]\n",
      " [0.73115578]\n",
      " [0.73869347]\n",
      " [0.7160804 ]\n",
      " [0.68341709]\n",
      " [0.65075377]\n",
      " [0.61809045]\n",
      " [0.6080402 ]\n",
      " [0.57788945]\n",
      " [0.55025126]\n",
      " [0.52763819]\n",
      " [0.49748744]\n",
      " [0.48492462]\n",
      " [0.45979899]\n",
      " [0.45226131]\n",
      " [0.44974874]\n",
      " [0.46482412]\n",
      " [0.52512563]\n",
      " [0.55276382]\n",
      " [0.57788945]\n",
      " [0.62060302]]\n"
     ]
    },
    {
     "data": {
      "text/plain": [
       "((22070, 168, 9),\n",
       " (22070, 48, 1),\n",
       " (6152, 168, 9),\n",
       " (6152, 48, 1),\n",
       " (2968, 168, 9),\n",
       " (2968, 48, 1))"
      ]
     },
     "execution_count": 15,
     "metadata": {},
     "output_type": "execute_result"
    }
   ],
   "source": [
    "X80_train,y80_train=array_to_X_y(df_np80_train)\n",
    "X80_val,y80_val=array_to_X_y(df_np80_val)\n",
    "\n",
    "\n",
    "X_train, y_train = array_to_X_y(df_np_train_scaled)\n",
    "X_val, y_val = array_to_X_y(df_np_val_scaled)\n",
    "X_test, y_test = array_to_X_y(df_np_test_scaled)\n",
    "X_train.shape, y_train.shape, X_val.shape, y_val.shape, X_test.shape, y_test.shape\n"
   ]
  },
  {
   "cell_type": "code",
   "execution_count": 16,
   "metadata": {},
   "outputs": [
    {
     "name": "stderr",
     "output_type": "stream",
     "text": [
      "c:\\Users\\soysa\\AppData\\Local\\Programs\\Python\\Python312\\Lib\\site-packages\\keras\\src\\layers\\rnn\\rnn.py:204: UserWarning:\n",
      "\n",
      "Do not pass an `input_shape`/`input_dim` argument to a layer. When using Sequential models, prefer using an `Input(shape)` object as the first layer in the model instead.\n",
      "\n"
     ]
    },
    {
     "data": {
      "text/html": [
       "<pre style=\"white-space:pre;overflow-x:auto;line-height:normal;font-family:Menlo,'DejaVu Sans Mono',consolas,'Courier New',monospace\"><span style=\"font-weight: bold\">Model: \"sequential\"</span>\n",
       "</pre>\n"
      ],
      "text/plain": [
       "\u001b[1mModel: \"sequential\"\u001b[0m\n"
      ]
     },
     "metadata": {},
     "output_type": "display_data"
    },
    {
     "data": {
      "text/html": [
       "<pre style=\"white-space:pre;overflow-x:auto;line-height:normal;font-family:Menlo,'DejaVu Sans Mono',consolas,'Courier New',monospace\">┏━━━━━━━━━━━━━━━━━━━━━━━━━━━━━━━━━┳━━━━━━━━━━━━━━━━━━━━━━━━┳━━━━━━━━━━━━━━━┓\n",
       "┃<span style=\"font-weight: bold\"> Layer (type)                    </span>┃<span style=\"font-weight: bold\"> Output Shape           </span>┃<span style=\"font-weight: bold\">       Param # </span>┃\n",
       "┡━━━━━━━━━━━━━━━━━━━━━━━━━━━━━━━━━╇━━━━━━━━━━━━━━━━━━━━━━━━╇━━━━━━━━━━━━━━━┩\n",
       "│ gru (<span style=\"color: #0087ff; text-decoration-color: #0087ff\">GRU</span>)                       │ (<span style=\"color: #00d7ff; text-decoration-color: #00d7ff\">None</span>, <span style=\"color: #00af00; text-decoration-color: #00af00\">168</span>, <span style=\"color: #00af00; text-decoration-color: #00af00\">50</span>)        │         <span style=\"color: #00af00; text-decoration-color: #00af00\">9,150</span> │\n",
       "├─────────────────────────────────┼────────────────────────┼───────────────┤\n",
       "│ gru_1 (<span style=\"color: #0087ff; text-decoration-color: #0087ff\">GRU</span>)                     │ (<span style=\"color: #00d7ff; text-decoration-color: #00d7ff\">None</span>, <span style=\"color: #00af00; text-decoration-color: #00af00\">50</span>)             │        <span style=\"color: #00af00; text-decoration-color: #00af00\">15,300</span> │\n",
       "├─────────────────────────────────┼────────────────────────┼───────────────┤\n",
       "│ dense (<span style=\"color: #0087ff; text-decoration-color: #0087ff\">Dense</span>)                   │ (<span style=\"color: #00d7ff; text-decoration-color: #00d7ff\">None</span>, <span style=\"color: #00af00; text-decoration-color: #00af00\">48</span>)             │         <span style=\"color: #00af00; text-decoration-color: #00af00\">2,448</span> │\n",
       "└─────────────────────────────────┴────────────────────────┴───────────────┘\n",
       "</pre>\n"
      ],
      "text/plain": [
       "┏━━━━━━━━━━━━━━━━━━━━━━━━━━━━━━━━━┳━━━━━━━━━━━━━━━━━━━━━━━━┳━━━━━━━━━━━━━━━┓\n",
       "┃\u001b[1m \u001b[0m\u001b[1mLayer (type)                   \u001b[0m\u001b[1m \u001b[0m┃\u001b[1m \u001b[0m\u001b[1mOutput Shape          \u001b[0m\u001b[1m \u001b[0m┃\u001b[1m \u001b[0m\u001b[1m      Param #\u001b[0m\u001b[1m \u001b[0m┃\n",
       "┡━━━━━━━━━━━━━━━━━━━━━━━━━━━━━━━━━╇━━━━━━━━━━━━━━━━━━━━━━━━╇━━━━━━━━━━━━━━━┩\n",
       "│ gru (\u001b[38;5;33mGRU\u001b[0m)                       │ (\u001b[38;5;45mNone\u001b[0m, \u001b[38;5;34m168\u001b[0m, \u001b[38;5;34m50\u001b[0m)        │         \u001b[38;5;34m9,150\u001b[0m │\n",
       "├─────────────────────────────────┼────────────────────────┼───────────────┤\n",
       "│ gru_1 (\u001b[38;5;33mGRU\u001b[0m)                     │ (\u001b[38;5;45mNone\u001b[0m, \u001b[38;5;34m50\u001b[0m)             │        \u001b[38;5;34m15,300\u001b[0m │\n",
       "├─────────────────────────────────┼────────────────────────┼───────────────┤\n",
       "│ dense (\u001b[38;5;33mDense\u001b[0m)                   │ (\u001b[38;5;45mNone\u001b[0m, \u001b[38;5;34m48\u001b[0m)             │         \u001b[38;5;34m2,448\u001b[0m │\n",
       "└─────────────────────────────────┴────────────────────────┴───────────────┘\n"
      ]
     },
     "metadata": {},
     "output_type": "display_data"
    },
    {
     "data": {
      "text/html": [
       "<pre style=\"white-space:pre;overflow-x:auto;line-height:normal;font-family:Menlo,'DejaVu Sans Mono',consolas,'Courier New',monospace\"><span style=\"font-weight: bold\"> Total params: </span><span style=\"color: #00af00; text-decoration-color: #00af00\">26,898</span> (105.07 KB)\n",
       "</pre>\n"
      ],
      "text/plain": [
       "\u001b[1m Total params: \u001b[0m\u001b[38;5;34m26,898\u001b[0m (105.07 KB)\n"
      ]
     },
     "metadata": {},
     "output_type": "display_data"
    },
    {
     "data": {
      "text/html": [
       "<pre style=\"white-space:pre;overflow-x:auto;line-height:normal;font-family:Menlo,'DejaVu Sans Mono',consolas,'Courier New',monospace\"><span style=\"font-weight: bold\"> Trainable params: </span><span style=\"color: #00af00; text-decoration-color: #00af00\">26,898</span> (105.07 KB)\n",
       "</pre>\n"
      ],
      "text/plain": [
       "\u001b[1m Trainable params: \u001b[0m\u001b[38;5;34m26,898\u001b[0m (105.07 KB)\n"
      ]
     },
     "metadata": {},
     "output_type": "display_data"
    },
    {
     "data": {
      "text/html": [
       "<pre style=\"white-space:pre;overflow-x:auto;line-height:normal;font-family:Menlo,'DejaVu Sans Mono',consolas,'Courier New',monospace\"><span style=\"font-weight: bold\"> Non-trainable params: </span><span style=\"color: #00af00; text-decoration-color: #00af00\">0</span> (0.00 B)\n",
       "</pre>\n"
      ],
      "text/plain": [
       "\u001b[1m Non-trainable params: \u001b[0m\u001b[38;5;34m0\u001b[0m (0.00 B)\n"
      ]
     },
     "metadata": {},
     "output_type": "display_data"
    },
    {
     "name": "stdout",
     "output_type": "stream",
     "text": [
      "Epoch 1/32\n",
      "\u001b[1m690/690\u001b[0m \u001b[32m━━━━━━━━━━━━━━━━━━━━\u001b[0m\u001b[37m\u001b[0m \u001b[1m76s\u001b[0m 104ms/step - loss: 0.0319 - val_loss: 0.0066\n",
      "Epoch 2/32\n",
      "\u001b[1m690/690\u001b[0m \u001b[32m━━━━━━━━━━━━━━━━━━━━\u001b[0m\u001b[37m\u001b[0m \u001b[1m65s\u001b[0m 95ms/step - loss: 0.0060 - val_loss: 0.0062\n",
      "Epoch 3/32\n",
      "\u001b[1m690/690\u001b[0m \u001b[32m━━━━━━━━━━━━━━━━━━━━\u001b[0m\u001b[37m\u001b[0m \u001b[1m66s\u001b[0m 95ms/step - loss: 0.0056 - val_loss: 0.0061\n",
      "Epoch 4/32\n",
      "\u001b[1m690/690\u001b[0m \u001b[32m━━━━━━━━━━━━━━━━━━━━\u001b[0m\u001b[37m\u001b[0m \u001b[1m64s\u001b[0m 93ms/step - loss: 0.0054 - val_loss: 0.0060\n",
      "Epoch 5/32\n",
      "\u001b[1m690/690\u001b[0m \u001b[32m━━━━━━━━━━━━━━━━━━━━\u001b[0m\u001b[37m\u001b[0m \u001b[1m64s\u001b[0m 93ms/step - loss: 0.0053 - val_loss: 0.0059\n",
      "Epoch 6/32\n",
      "\u001b[1m690/690\u001b[0m \u001b[32m━━━━━━━━━━━━━━━━━━━━\u001b[0m\u001b[37m\u001b[0m \u001b[1m64s\u001b[0m 92ms/step - loss: 0.0053 - val_loss: 0.0059\n",
      "Epoch 7/32\n",
      "\u001b[1m690/690\u001b[0m \u001b[32m━━━━━━━━━━━━━━━━━━━━\u001b[0m\u001b[37m\u001b[0m \u001b[1m64s\u001b[0m 92ms/step - loss: 0.0052 - val_loss: 0.0058\n",
      "Epoch 8/32\n",
      "\u001b[1m690/690\u001b[0m \u001b[32m━━━━━━━━━━━━━━━━━━━━\u001b[0m\u001b[37m\u001b[0m \u001b[1m63s\u001b[0m 92ms/step - loss: 0.0051 - val_loss: 0.0058\n",
      "Epoch 9/32\n",
      "\u001b[1m690/690\u001b[0m \u001b[32m━━━━━━━━━━━━━━━━━━━━\u001b[0m\u001b[37m\u001b[0m \u001b[1m63s\u001b[0m 92ms/step - loss: 0.0050 - val_loss: 0.0057\n",
      "Epoch 10/32\n",
      "\u001b[1m690/690\u001b[0m \u001b[32m━━━━━━━━━━━━━━━━━━━━\u001b[0m\u001b[37m\u001b[0m \u001b[1m64s\u001b[0m 93ms/step - loss: 0.0049 - val_loss: 0.0058\n",
      "Epoch 11/32\n",
      "\u001b[1m690/690\u001b[0m \u001b[32m━━━━━━━━━━━━━━━━━━━━\u001b[0m\u001b[37m\u001b[0m \u001b[1m63s\u001b[0m 92ms/step - loss: 0.0048 - val_loss: 0.0059\n",
      "Epoch 12/32\n",
      "\u001b[1m690/690\u001b[0m \u001b[32m━━━━━━━━━━━━━━━━━━━━\u001b[0m\u001b[37m\u001b[0m \u001b[1m64s\u001b[0m 92ms/step - loss: 0.0047 - val_loss: 0.0060\n",
      "Epoch 13/32\n",
      "\u001b[1m690/690\u001b[0m \u001b[32m━━━━━━━━━━━━━━━━━━━━\u001b[0m\u001b[37m\u001b[0m \u001b[1m64s\u001b[0m 93ms/step - loss: 0.0046 - val_loss: 0.0061\n",
      "Epoch 14/32\n",
      "\u001b[1m690/690\u001b[0m \u001b[32m━━━━━━━━━━━━━━━━━━━━\u001b[0m\u001b[37m\u001b[0m \u001b[1m64s\u001b[0m 93ms/step - loss: 0.0045 - val_loss: 0.0062\n",
      "Epoch 15/32\n",
      "\u001b[1m690/690\u001b[0m \u001b[32m━━━━━━━━━━━━━━━━━━━━\u001b[0m\u001b[37m\u001b[0m \u001b[1m64s\u001b[0m 92ms/step - loss: 0.0043 - val_loss: 0.0062\n",
      "Epoch 16/32\n",
      "\u001b[1m690/690\u001b[0m \u001b[32m━━━━━━━━━━━━━━━━━━━━\u001b[0m\u001b[37m\u001b[0m \u001b[1m63s\u001b[0m 92ms/step - loss: 0.0042 - val_loss: 0.0063\n",
      "Epoch 17/32\n",
      "\u001b[1m690/690\u001b[0m \u001b[32m━━━━━━━━━━━━━━━━━━━━\u001b[0m\u001b[37m\u001b[0m \u001b[1m63s\u001b[0m 92ms/step - loss: 0.0040 - val_loss: 0.0064\n",
      "Epoch 18/32\n",
      "\u001b[1m690/690\u001b[0m \u001b[32m━━━━━━━━━━━━━━━━━━━━\u001b[0m\u001b[37m\u001b[0m \u001b[1m65s\u001b[0m 95ms/step - loss: 0.0038 - val_loss: 0.0064\n",
      "Epoch 19/32\n",
      "\u001b[1m690/690\u001b[0m \u001b[32m━━━━━━━━━━━━━━━━━━━━\u001b[0m\u001b[37m\u001b[0m \u001b[1m64s\u001b[0m 92ms/step - loss: 0.0036 - val_loss: 0.0067\n",
      "Epoch 20/32\n",
      "\u001b[1m690/690\u001b[0m \u001b[32m━━━━━━━━━━━━━━━━━━━━\u001b[0m\u001b[37m\u001b[0m \u001b[1m64s\u001b[0m 93ms/step - loss: 0.0033 - val_loss: 0.0072\n",
      "Epoch 21/32\n",
      "\u001b[1m690/690\u001b[0m \u001b[32m━━━━━━━━━━━━━━━━━━━━\u001b[0m\u001b[37m\u001b[0m \u001b[1m64s\u001b[0m 93ms/step - loss: 0.0031 - val_loss: 0.0079\n",
      "Epoch 22/32\n",
      "\u001b[1m690/690\u001b[0m \u001b[32m━━━━━━━━━━━━━━━━━━━━\u001b[0m\u001b[37m\u001b[0m \u001b[1m64s\u001b[0m 93ms/step - loss: 0.0028 - val_loss: 0.0080\n",
      "Epoch 23/32\n",
      "\u001b[1m690/690\u001b[0m \u001b[32m━━━━━━━━━━━━━━━━━━━━\u001b[0m\u001b[37m\u001b[0m \u001b[1m65s\u001b[0m 94ms/step - loss: 0.0026 - val_loss: 0.0084\n",
      "Epoch 24/32\n",
      "\u001b[1m690/690\u001b[0m \u001b[32m━━━━━━━━━━━━━━━━━━━━\u001b[0m\u001b[37m\u001b[0m \u001b[1m63s\u001b[0m 91ms/step - loss: 0.0023 - val_loss: 0.0088\n",
      "Epoch 25/32\n",
      "\u001b[1m690/690\u001b[0m \u001b[32m━━━━━━━━━━━━━━━━━━━━\u001b[0m\u001b[37m\u001b[0m \u001b[1m62s\u001b[0m 90ms/step - loss: 0.0021 - val_loss: 0.0093\n",
      "Epoch 26/32\n",
      "\u001b[1m690/690\u001b[0m \u001b[32m━━━━━━━━━━━━━━━━━━━━\u001b[0m\u001b[37m\u001b[0m \u001b[1m63s\u001b[0m 91ms/step - loss: 0.0020 - val_loss: 0.0090\n",
      "Epoch 27/32\n",
      "\u001b[1m690/690\u001b[0m \u001b[32m━━━━━━━━━━━━━━━━━━━━\u001b[0m\u001b[37m\u001b[0m \u001b[1m63s\u001b[0m 92ms/step - loss: 0.0018 - val_loss: 0.0088\n",
      "Epoch 28/32\n",
      "\u001b[1m690/690\u001b[0m \u001b[32m━━━━━━━━━━━━━━━━━━━━\u001b[0m\u001b[37m\u001b[0m \u001b[1m63s\u001b[0m 92ms/step - loss: 0.0017 - val_loss: 0.0087\n",
      "Epoch 29/32\n",
      "\u001b[1m690/690\u001b[0m \u001b[32m━━━━━━━━━━━━━━━━━━━━\u001b[0m\u001b[37m\u001b[0m \u001b[1m63s\u001b[0m 92ms/step - loss: 0.0016 - val_loss: 0.0088\n",
      "Epoch 30/32\n",
      "\u001b[1m690/690\u001b[0m \u001b[32m━━━━━━━━━━━━━━━━━━━━\u001b[0m\u001b[37m\u001b[0m \u001b[1m63s\u001b[0m 91ms/step - loss: 0.0015 - val_loss: 0.0089\n",
      "Epoch 31/32\n",
      "\u001b[1m690/690\u001b[0m \u001b[32m━━━━━━━━━━━━━━━━━━━━\u001b[0m\u001b[37m\u001b[0m \u001b[1m63s\u001b[0m 91ms/step - loss: 0.0014 - val_loss: 0.0090\n",
      "Epoch 32/32\n",
      "\u001b[1m690/690\u001b[0m \u001b[32m━━━━━━━━━━━━━━━━━━━━\u001b[0m\u001b[37m\u001b[0m \u001b[1m63s\u001b[0m 91ms/step - loss: 0.0014 - val_loss: 0.0090\n"
     ]
    },
    {
     "data": {
      "text/plain": [
       "<keras.src.callbacks.history.History at 0x1fe945c9850>"
      ]
     },
     "execution_count": 16,
     "metadata": {},
     "output_type": "execute_result"
    }
   ],
   "source": [
    "# fit the model\n",
    "model = Sequential()\n",
    "model.add(GRU(units=50, return_sequences=True, input_shape=(n_lookback, n_columnas)))\n",
    "model.add(GRU(units=50))\n",
    "model.add(Dense(n_forecast))\n",
    "model.summary()\n",
    "model.compile(loss='mean_squared_error', optimizer='adam')\n",
    "model.fit(X_train, y_train, epochs=32, batch_size=32,validation_data=(X_val,y_val))"
   ]
  },
  {
   "cell_type": "code",
   "execution_count": 106,
   "metadata": {},
   "outputs": [
    {
     "data": {
      "text/plain": [
       "['GRUcorto-10-12-scaler.gz']"
      ]
     },
     "execution_count": 106,
     "metadata": {},
     "output_type": "execute_result"
    }
   ],
   "source": [
    "model.save('GRUcorto-10-12.keras')\n",
    "joblib.dump(train_scaler,'GRUcorto-10-12-scaler.gz')"
   ]
  },
  {
   "cell_type": "code",
   "execution_count": 63,
   "metadata": {},
   "outputs": [],
   "source": [
    "model=tf.keras.models.load_model('GRUcorto-10-12.keras')\n",
    "\n",
    "train_scaler=joblib.load('GRUcorto-10-12-scaler.gz')\n",
    "model2=tf.keras.models.load_model('GRU80_20-10-12.keras')\n",
    "np80_scaler=joblib.load('GRU80_20-10-12-scaler.gz')\n",
    "\n",
    "model3=tf.keras.models.load_model('GRU80_20.keras')\n",
    "np80_scaler2 = joblib.load('GRU80_20-scaler.gz')\n"
   ]
  },
  {
   "cell_type": "code",
   "execution_count": null,
   "metadata": {},
   "outputs": [],
   "source": [
    "error_rel_mape=np.average(np.abs(real-dy)/real)\n",
    "print(error_rel_mape)\n",
    "MSE=np.average((real-dy)**2)\n",
    "print(MSE)\n",
    "ME=np.average(np.abs(real-dy))\n",
    "print(ME)"
   ]
  },
  {
   "cell_type": "code",
   "execution_count": null,
   "metadata": {},
   "outputs": [],
   "source": [
    "temp_tot=[]\n",
    "t_tot=df.loc['2023-1-1':'2024-11-30'].index\n",
    "temp_real=df.loc['2023-1-1':'2024-11-30']['y'].to_numpy()\n",
    "test=[]\n",
    "for fechas in df.loc['2023-1-1':'2024-11-30':48].index:\n",
    "    temperatura,tiempo = get_pred(fechas,modelo=model3,scaler=np80_scaler2)\n",
    "    # print(tiempo[0])\n",
    "    temp_tot=np.concatenate((temp_tot,temperatura))\n",
    "    test.append(tiempo)\n",
    "    # print(len(test),temp_tot.shape)\n",
    "test=np.array(test).flatten()"
   ]
  },
  {
   "cell_type": "code",
   "execution_count": 77,
   "metadata": {},
   "outputs": [
    {
     "data": {
      "application/vnd.plotly.v1+json": {
       "config": {
        "linkText": "Export to plot.ly",
        "plotlyServerURL": "https://plot.ly",
        "showLink": false
       },
       "data": [
        {
         "name": "predict",
         "type": "scatter",
         "x": [
          "2023-01-01T01:00:00.000000000",
          "2023-01-01T02:00:00.000000000",
          "2023-01-01T03:00:00.000000000",
          "2023-01-01T04:00:00.000000000",
          "2023-01-01T05:00:00.000000000",
          "2023-01-01T06:00:00.000000000",
          "2023-01-01T07:00:00.000000000",
          "2023-01-01T08:00:00.000000000",
          "2023-01-01T09:00:00.000000000",
          "2023-01-01T10:00:00.000000000",
          "2023-01-01T11:00:00.000000000",
          "2023-01-01T12:00:00.000000000",
          "2023-01-01T13:00:00.000000000",
          "2023-01-01T14:00:00.000000000",
          "2023-01-01T15:00:00.000000000",
          "2023-01-01T16:00:00.000000000",
          "2023-01-01T17:00:00.000000000",
          "2023-01-01T18:00:00.000000000",
          "2023-01-01T19:00:00.000000000",
          "2023-01-01T20:00:00.000000000",
          "2023-01-01T21:00:00.000000000",
          "2023-01-01T22:00:00.000000000",
          "2023-01-01T23:00:00.000000000",
          "2023-01-02T00:00:00.000000000",
          "2023-01-02T01:00:00.000000000",
          "2023-01-02T02:00:00.000000000",
          "2023-01-02T03:00:00.000000000",
          "2023-01-02T04:00:00.000000000",
          "2023-01-02T05:00:00.000000000",
          "2023-01-02T06:00:00.000000000",
          "2023-01-02T07:00:00.000000000",
          "2023-01-02T08:00:00.000000000",
          "2023-01-02T09:00:00.000000000",
          "2023-01-02T10:00:00.000000000",
          "2023-01-02T11:00:00.000000000",
          "2023-01-02T12:00:00.000000000",
          "2023-01-02T13:00:00.000000000",
          "2023-01-02T14:00:00.000000000",
          "2023-01-02T15:00:00.000000000",
          "2023-01-02T16:00:00.000000000",
          "2023-01-02T17:00:00.000000000",
          "2023-01-02T18:00:00.000000000",
          "2023-01-02T19:00:00.000000000",
          "2023-01-02T20:00:00.000000000",
          "2023-01-02T21:00:00.000000000",
          "2023-01-02T22:00:00.000000000",
          "2023-01-02T23:00:00.000000000",
          "2023-01-03T00:00:00.000000000",
          "2023-01-03T01:00:00.000000000",
          "2023-01-03T02:00:00.000000000",
          "2023-01-03T03:00:00.000000000",
          "2023-01-03T04:00:00.000000000",
          "2023-01-03T05:00:00.000000000",
          "2023-01-03T06:00:00.000000000",
          "2023-01-03T07:00:00.000000000",
          "2023-01-03T08:00:00.000000000",
          "2023-01-03T09:00:00.000000000",
          "2023-01-03T10:00:00.000000000",
          "2023-01-03T11:00:00.000000000",
          "2023-01-03T12:00:00.000000000",
          "2023-01-03T13:00:00.000000000",
          "2023-01-03T14:00:00.000000000",
          "2023-01-03T15:00:00.000000000",
          "2023-01-03T16:00:00.000000000",
          "2023-01-03T17:00:00.000000000",
          "2023-01-03T18:00:00.000000000",
          "2023-01-03T19:00:00.000000000",
          "2023-01-03T20:00:00.000000000",
          "2023-01-03T21:00:00.000000000",
          "2023-01-03T22:00:00.000000000",
          "2023-01-03T23:00:00.000000000",
          "2023-01-04T00:00:00.000000000",
          "2023-01-04T01:00:00.000000000",
          "2023-01-04T02:00:00.000000000",
          "2023-01-04T03:00:00.000000000",
          "2023-01-04T04:00:00.000000000",
          "2023-01-04T05:00:00.000000000",
          "2023-01-04T06:00:00.000000000",
          "2023-01-04T07:00:00.000000000",
          "2023-01-04T08:00:00.000000000",
          "2023-01-04T09:00:00.000000000",
          "2023-01-04T10:00:00.000000000",
          "2023-01-04T11:00:00.000000000",
          "2023-01-04T12:00:00.000000000",
          "2023-01-04T13:00:00.000000000",
          "2023-01-04T14:00:00.000000000",
          "2023-01-04T15:00:00.000000000",
          "2023-01-04T16:00:00.000000000",
          "2023-01-04T17:00:00.000000000",
          "2023-01-04T18:00:00.000000000",
          "2023-01-04T19:00:00.000000000",
          "2023-01-04T20:00:00.000000000",
          "2023-01-04T21:00:00.000000000",
          "2023-01-04T22:00:00.000000000",
          "2023-01-04T23:00:00.000000000",
          "2023-01-05T00:00:00.000000000",
          "2023-01-05T01:00:00.000000000",
          "2023-01-05T02:00:00.000000000",
          "2023-01-05T03:00:00.000000000",
          "2023-01-05T04:00:00.000000000",
          "2023-01-05T05:00:00.000000000",
          "2023-01-05T06:00:00.000000000",
          "2023-01-05T07:00:00.000000000",
          "2023-01-05T08:00:00.000000000",
          "2023-01-05T09:00:00.000000000",
          "2023-01-05T10:00:00.000000000",
          "2023-01-05T11:00:00.000000000",
          "2023-01-05T12:00:00.000000000",
          "2023-01-05T13:00:00.000000000",
          "2023-01-05T14:00:00.000000000",
          "2023-01-05T15:00:00.000000000",
          "2023-01-05T16:00:00.000000000",
          "2023-01-05T17:00:00.000000000",
          "2023-01-05T18:00:00.000000000",
          "2023-01-05T19:00:00.000000000",
          "2023-01-05T20:00:00.000000000",
          "2023-01-05T21:00:00.000000000",
          "2023-01-05T22:00:00.000000000",
          "2023-01-05T23:00:00.000000000",
          "2023-01-06T00:00:00.000000000",
          "2023-01-06T01:00:00.000000000",
          "2023-01-06T02:00:00.000000000",
          "2023-01-06T03:00:00.000000000",
          "2023-01-06T04:00:00.000000000",
          "2023-01-06T05:00:00.000000000",
          "2023-01-06T06:00:00.000000000",
          "2023-01-06T07:00:00.000000000",
          "2023-01-06T08:00:00.000000000",
          "2023-01-06T09:00:00.000000000",
          "2023-01-06T10:00:00.000000000",
          "2023-01-06T11:00:00.000000000",
          "2023-01-06T12:00:00.000000000",
          "2023-01-06T13:00:00.000000000",
          "2023-01-06T14:00:00.000000000",
          "2023-01-06T15:00:00.000000000",
          "2023-01-06T16:00:00.000000000",
          "2023-01-06T17:00:00.000000000",
          "2023-01-06T18:00:00.000000000",
          "2023-01-06T19:00:00.000000000",
          "2023-01-06T20:00:00.000000000",
          "2023-01-06T21:00:00.000000000",
          "2023-01-06T22:00:00.000000000",
          "2023-01-06T23:00:00.000000000",
          "2023-01-07T00:00:00.000000000",
          "2023-01-07T01:00:00.000000000",
          "2023-01-07T02:00:00.000000000",
          "2023-01-07T03:00:00.000000000",
          "2023-01-07T04:00:00.000000000",
          "2023-01-07T05:00:00.000000000",
          "2023-01-07T06:00:00.000000000",
          "2023-01-07T07:00:00.000000000",
          "2023-01-07T08:00:00.000000000",
          "2023-01-07T09:00:00.000000000",
          "2023-01-07T10:00:00.000000000",
          "2023-01-07T11:00:00.000000000",
          "2023-01-07T12:00:00.000000000",
          "2023-01-07T13:00:00.000000000",
          "2023-01-07T14:00:00.000000000",
          "2023-01-07T15:00:00.000000000",
          "2023-01-07T16:00:00.000000000",
          "2023-01-07T17:00:00.000000000",
          "2023-01-07T18:00:00.000000000",
          "2023-01-07T19:00:00.000000000",
          "2023-01-07T20:00:00.000000000",
          "2023-01-07T21:00:00.000000000",
          "2023-01-07T22:00:00.000000000",
          "2023-01-07T23:00:00.000000000",
          "2023-01-08T00:00:00.000000000"
         ],
         "y": [
          29.374713611602782,
          28.62956256866455,
          27.54006917476654,
          26.381618213653564,
          24.447511506080627,
          22.299417567253112,
          21.880158734321594,
          20.554527354240417,
          20.256634545326232,
          19.240883272886276,
          20.860464257001876,
          21.91953123807907,
          21.32560474872589,
          20.345047903060912,
          20.979509127140044,
          20.281926852464675,
          20.890741807222366,
          20.436888408660888,
          20.598307293653487,
          20.81245772242546,
          20.909868997335433,
          19.672674131393432,
          20.50300325155258,
          18.9538640499115,
          18.155688148736953,
          18.441944313049316,
          19.53924362063408,
          18.580998522043227,
          19.448568654060363,
          19.70561025738716,
          20.479838025569915,
          21.389141511917114,
          22.908596408367156,
          23.512729358673095,
          25.15780885219574,
          26.58382875919342,
          27.023372602462768,
          28.668143343925475,
          28.011904072761535,
          27.994005274772643,
          27.766627025604247,
          27.743819069862365,
          26.418750059604644,
          25.85598326921463,
          25.046426546573638,
          24.222382736206054,
          22.47105063199997,
          22.0821222782135,
          24.89720447063446,
          24.035188567638397,
          23.531042766571044,
          23.799319636821746,
          22.882270884513854,
          23.707315933704376,
          24.13551754951477,
          25.938638401031493,
          27.506818783283233,
          29.53165007829666,
          31.398020994663238,
          32.9215690612793,
          34.30115927457809,
          34.550282490253444,
          35.569382619857784,
          35.170349252223964,
          34.15207834243774,
          33.418218803405765,
          32.82103939056397,
          31.496014487743377,
          29.98585523366928,
          29.344327998161315,
          27.984398674964904,
          26.998121094703674,
          26.79870034456253,
          25.902117443084716,
          25.544399511814117,
          25.021680068969726,
          24.222468745708465,
          23.884797644615173,
          24.62512995004654,
          25.176186215877532,
          26.884972286224365,
          28.021025490760803,
          29.519441139698028,
          30.883598160743713,
          32.25892980098725,
          32.104293537139895,
          32.67346913814545,
          32.231644940376285,
          31.912280631065368,
          30.923733723163604,
          29.861258339881896,
          28.83003087043762,
          27.793896448612212,
          27.069980931282043,
          25.786578011512756,
          25.4280176281929,
          26.156491649150848,
          25.5689386844635,
          24.54300410747528,
          24.53702313899994,
          23.59676946401596,
          23.397361946105956,
          22.902595591545104,
          23.863765013217925,
          24.691017639636993,
          25.658415031433105,
          26.442479860782623,
          28.38830370903015,
          28.809437108039855,
          28.74303115606308,
          29.66347177028656,
          29.261256051063537,
          29.019911181926727,
          28.49873991012573,
          27.586417269706725,
          27.501700115203857,
          26.249670815467834,
          25.451030683517455,
          24.462230157852172,
          23.767119002342223,
          22.943158996105193,
          22.21265162229538,
          22.49729014635086,
          22.235448551177978,
          21.073743563890456,
          21.11022592782974,
          21.369310808181762,
          22.239482176303863,
          23.466509175300597,
          24.428867292404174,
          26.241016936302184,
          27.429954957962035,
          28.696290504932403,
          29.594298076629638,
          29.7892573595047,
          30.499832582473754,
          29.824232351779937,
          29.057468664646148,
          28.237392318248748,
          27.711605203151702,
          26.293842208385467,
          25.438202035427093,
          24.410269391536712,
          23.87308932542801,
          30.183310997486114,
          29.367704939842223,
          27.9713583111763,
          27.796011400222778,
          26.499989342689513,
          26.120965313911437,
          25.510421347618102,
          25.968197000026702,
          26.59320820569992,
          26.857713890075683,
          28.088505458831786,
          29.51888097524643,
          29.929993164539336,
          29.638712060451507,
          30.197094571590423,
          29.842325222492217,
          29.48463155031204,
          28.78748483657837,
          28.555140089988708,
          28.32758320569992,
          27.25129337310791,
          26.163828921318053,
          25.75751121044159,
          24.947784674167632
         ]
        },
        {
         "name": "x_test_real",
         "type": "scatter",
         "x": [
          "2023-01-01T00:00:00",
          "2023-01-01T01:00:00",
          "2023-01-01T02:00:00",
          "2023-01-01T03:00:00",
          "2023-01-01T04:00:00",
          "2023-01-01T05:00:00",
          "2023-01-01T06:00:00",
          "2023-01-01T07:00:00",
          "2023-01-01T08:00:00",
          "2023-01-01T09:00:00",
          "2023-01-01T10:00:00",
          "2023-01-01T11:00:00",
          "2023-01-01T12:00:00",
          "2023-01-01T13:00:00",
          "2023-01-01T14:00:00",
          "2023-01-01T15:00:00",
          "2023-01-01T16:00:00",
          "2023-01-01T17:00:00",
          "2023-01-01T18:00:00",
          "2023-01-01T19:00:00",
          "2023-01-01T20:00:00",
          "2023-01-01T21:00:00",
          "2023-01-01T22:00:00",
          "2023-01-01T23:00:00",
          "2023-01-02T00:00:00",
          "2023-01-02T01:00:00",
          "2023-01-02T02:00:00",
          "2023-01-02T03:00:00",
          "2023-01-02T04:00:00",
          "2023-01-02T05:00:00",
          "2023-01-02T06:00:00",
          "2023-01-02T07:00:00",
          "2023-01-02T08:00:00",
          "2023-01-02T09:00:00",
          "2023-01-02T10:00:00",
          "2023-01-02T11:00:00",
          "2023-01-02T12:00:00",
          "2023-01-02T13:00:00",
          "2023-01-02T14:00:00",
          "2023-01-02T15:00:00",
          "2023-01-02T16:00:00",
          "2023-01-02T17:00:00",
          "2023-01-02T18:00:00",
          "2023-01-02T19:00:00",
          "2023-01-02T20:00:00",
          "2023-01-02T21:00:00",
          "2023-01-02T22:00:00",
          "2023-01-02T23:00:00",
          "2023-01-03T00:00:00",
          "2023-01-03T01:00:00",
          "2023-01-03T02:00:00",
          "2023-01-03T03:00:00",
          "2023-01-03T04:00:00",
          "2023-01-03T05:00:00",
          "2023-01-03T06:00:00",
          "2023-01-03T07:00:00",
          "2023-01-03T08:00:00",
          "2023-01-03T09:00:00",
          "2023-01-03T10:00:00",
          "2023-01-03T11:00:00",
          "2023-01-03T12:00:00",
          "2023-01-03T13:00:00",
          "2023-01-03T14:00:00",
          "2023-01-03T15:00:00",
          "2023-01-03T16:00:00",
          "2023-01-03T17:00:00",
          "2023-01-03T18:00:00",
          "2023-01-03T19:00:00",
          "2023-01-03T20:00:00",
          "2023-01-03T21:00:00",
          "2023-01-03T22:00:00",
          "2023-01-03T23:00:00",
          "2023-01-04T00:00:00",
          "2023-01-04T01:00:00",
          "2023-01-04T02:00:00",
          "2023-01-04T03:00:00",
          "2023-01-04T04:00:00",
          "2023-01-04T05:00:00",
          "2023-01-04T06:00:00",
          "2023-01-04T07:00:00",
          "2023-01-04T08:00:00",
          "2023-01-04T09:00:00",
          "2023-01-04T10:00:00",
          "2023-01-04T11:00:00",
          "2023-01-04T12:00:00",
          "2023-01-04T13:00:00",
          "2023-01-04T14:00:00",
          "2023-01-04T15:00:00",
          "2023-01-04T16:00:00",
          "2023-01-04T17:00:00",
          "2023-01-04T18:00:00",
          "2023-01-04T19:00:00",
          "2023-01-04T20:00:00",
          "2023-01-04T21:00:00",
          "2023-01-04T22:00:00",
          "2023-01-04T23:00:00",
          "2023-01-05T00:00:00",
          "2023-01-05T01:00:00",
          "2023-01-05T02:00:00",
          "2023-01-05T03:00:00",
          "2023-01-05T04:00:00",
          "2023-01-05T05:00:00",
          "2023-01-05T06:00:00",
          "2023-01-05T07:00:00",
          "2023-01-05T08:00:00",
          "2023-01-05T09:00:00",
          "2023-01-05T10:00:00",
          "2023-01-05T11:00:00",
          "2023-01-05T12:00:00",
          "2023-01-05T13:00:00",
          "2023-01-05T14:00:00",
          "2023-01-05T15:00:00",
          "2023-01-05T16:00:00",
          "2023-01-05T17:00:00",
          "2023-01-05T18:00:00",
          "2023-01-05T19:00:00",
          "2023-01-05T20:00:00",
          "2023-01-05T21:00:00",
          "2023-01-05T22:00:00",
          "2023-01-05T23:00:00",
          "2023-01-06T00:00:00",
          "2023-01-06T01:00:00",
          "2023-01-06T02:00:00",
          "2023-01-06T03:00:00",
          "2023-01-06T04:00:00",
          "2023-01-06T05:00:00",
          "2023-01-06T06:00:00",
          "2023-01-06T07:00:00",
          "2023-01-06T08:00:00",
          "2023-01-06T09:00:00",
          "2023-01-06T10:00:00",
          "2023-01-06T11:00:00",
          "2023-01-06T12:00:00",
          "2023-01-06T13:00:00",
          "2023-01-06T14:00:00",
          "2023-01-06T15:00:00",
          "2023-01-06T16:00:00",
          "2023-01-06T17:00:00",
          "2023-01-06T18:00:00",
          "2023-01-06T19:00:00",
          "2023-01-06T20:00:00",
          "2023-01-06T21:00:00",
          "2023-01-06T22:00:00",
          "2023-01-06T23:00:00",
          "2023-01-07T00:00:00",
          "2023-01-07T01:00:00",
          "2023-01-07T02:00:00",
          "2023-01-07T03:00:00",
          "2023-01-07T04:00:00",
          "2023-01-07T05:00:00",
          "2023-01-07T06:00:00",
          "2023-01-07T07:00:00",
          "2023-01-07T08:00:00",
          "2023-01-07T09:00:00",
          "2023-01-07T10:00:00",
          "2023-01-07T11:00:00",
          "2023-01-07T12:00:00",
          "2023-01-07T13:00:00",
          "2023-01-07T14:00:00",
          "2023-01-07T15:00:00",
          "2023-01-07T16:00:00",
          "2023-01-07T17:00:00",
          "2023-01-07T18:00:00",
          "2023-01-07T19:00:00",
          "2023-01-07T20:00:00",
          "2023-01-07T21:00:00",
          "2023-01-07T22:00:00",
          "2023-01-07T23:00:00"
         ],
         "y": [
          31.5,
          30.2,
          29.7,
          28.6,
          28.6,
          28.9,
          27.2,
          23.4,
          23.3,
          23.4,
          24.5,
          25.8,
          23.1,
          23.5,
          21.4,
          22.1,
          23,
          24.6,
          24.7,
          23.8,
          23.9,
          23.3,
          22.8,
          22.4,
          22.2,
          22,
          21.7,
          20.4,
          19.2,
          18.3,
          17.9,
          18.4,
          19.4,
          21.5,
          24.6,
          27.3,
          27.6,
          29.3,
          31.6,
          31.9,
          32.1,
          31.8,
          31.6,
          31.6,
          30.8,
          30.1,
          28.9,
          27.8,
          26,
          24.4,
          23.6,
          24.2,
          24.2,
          23.8,
          22.2,
          19.6,
          24.9,
          25.8,
          27.7,
          30.8,
          31.1,
          33.3,
          34.2,
          34,
          34.3,
          33.4,
          32.8,
          32.5,
          32.2,
          31.1,
          29.9,
          28,
          26.6,
          25.1,
          24.2,
          23.6,
          23,
          22.4,
          21.3,
          22,
          23.4,
          26,
          27.7,
          29.3,
          31.3,
          30.6,
          33.3,
          33.6,
          33.7,
          31.7,
          32.1,
          31.8,
          30.6,
          29.2,
          28.7,
          27.5,
          26.5,
          25.1,
          24.4,
          23.6,
          23,
          22.1,
          21.8,
          22.3,
          23.2,
          26.2,
          27.5,
          29.5,
          33.1,
          33,
          34.3,
          33.7,
          34.9,
          34.5,
          34.5,
          34.1,
          33.2,
          31.4,
          31.5,
          29.1,
          27.8,
          27.1,
          26.2,
          25.9,
          25.4,
          24.4,
          23.5,
          23.9,
          25,
          28.2,
          30.3,
          31.9,
          33.8,
          35.5,
          36.5,
          36.9,
          38,
          37.6,
          36.7,
          36.4,
          35.7,
          34.4,
          33.1,
          32.5,
          30.9,
          29.7,
          28.6,
          27.8,
          26.4,
          25.9,
          25.2,
          25.4,
          25.9,
          27.6,
          30,
          31,
          31.9,
          34.3,
          35.9,
          36.9,
          36.6,
          36.5,
          36.4,
          36.1,
          35.1,
          33.3,
          32.3,
          29.8
         ]
        }
       ],
       "layout": {
        "template": {
         "data": {
          "bar": [
           {
            "error_x": {
             "color": "#2a3f5f"
            },
            "error_y": {
             "color": "#2a3f5f"
            },
            "marker": {
             "line": {
              "color": "#E5ECF6",
              "width": 0.5
             },
             "pattern": {
              "fillmode": "overlay",
              "size": 10,
              "solidity": 0.2
             }
            },
            "type": "bar"
           }
          ],
          "barpolar": [
           {
            "marker": {
             "line": {
              "color": "#E5ECF6",
              "width": 0.5
             },
             "pattern": {
              "fillmode": "overlay",
              "size": 10,
              "solidity": 0.2
             }
            },
            "type": "barpolar"
           }
          ],
          "carpet": [
           {
            "aaxis": {
             "endlinecolor": "#2a3f5f",
             "gridcolor": "white",
             "linecolor": "white",
             "minorgridcolor": "white",
             "startlinecolor": "#2a3f5f"
            },
            "baxis": {
             "endlinecolor": "#2a3f5f",
             "gridcolor": "white",
             "linecolor": "white",
             "minorgridcolor": "white",
             "startlinecolor": "#2a3f5f"
            },
            "type": "carpet"
           }
          ],
          "choropleth": [
           {
            "colorbar": {
             "outlinewidth": 0,
             "ticks": ""
            },
            "type": "choropleth"
           }
          ],
          "contour": [
           {
            "colorbar": {
             "outlinewidth": 0,
             "ticks": ""
            },
            "colorscale": [
             [
              0,
              "#0d0887"
             ],
             [
              0.1111111111111111,
              "#46039f"
             ],
             [
              0.2222222222222222,
              "#7201a8"
             ],
             [
              0.3333333333333333,
              "#9c179e"
             ],
             [
              0.4444444444444444,
              "#bd3786"
             ],
             [
              0.5555555555555556,
              "#d8576b"
             ],
             [
              0.6666666666666666,
              "#ed7953"
             ],
             [
              0.7777777777777778,
              "#fb9f3a"
             ],
             [
              0.8888888888888888,
              "#fdca26"
             ],
             [
              1,
              "#f0f921"
             ]
            ],
            "type": "contour"
           }
          ],
          "contourcarpet": [
           {
            "colorbar": {
             "outlinewidth": 0,
             "ticks": ""
            },
            "type": "contourcarpet"
           }
          ],
          "heatmap": [
           {
            "colorbar": {
             "outlinewidth": 0,
             "ticks": ""
            },
            "colorscale": [
             [
              0,
              "#0d0887"
             ],
             [
              0.1111111111111111,
              "#46039f"
             ],
             [
              0.2222222222222222,
              "#7201a8"
             ],
             [
              0.3333333333333333,
              "#9c179e"
             ],
             [
              0.4444444444444444,
              "#bd3786"
             ],
             [
              0.5555555555555556,
              "#d8576b"
             ],
             [
              0.6666666666666666,
              "#ed7953"
             ],
             [
              0.7777777777777778,
              "#fb9f3a"
             ],
             [
              0.8888888888888888,
              "#fdca26"
             ],
             [
              1,
              "#f0f921"
             ]
            ],
            "type": "heatmap"
           }
          ],
          "heatmapgl": [
           {
            "colorbar": {
             "outlinewidth": 0,
             "ticks": ""
            },
            "colorscale": [
             [
              0,
              "#0d0887"
             ],
             [
              0.1111111111111111,
              "#46039f"
             ],
             [
              0.2222222222222222,
              "#7201a8"
             ],
             [
              0.3333333333333333,
              "#9c179e"
             ],
             [
              0.4444444444444444,
              "#bd3786"
             ],
             [
              0.5555555555555556,
              "#d8576b"
             ],
             [
              0.6666666666666666,
              "#ed7953"
             ],
             [
              0.7777777777777778,
              "#fb9f3a"
             ],
             [
              0.8888888888888888,
              "#fdca26"
             ],
             [
              1,
              "#f0f921"
             ]
            ],
            "type": "heatmapgl"
           }
          ],
          "histogram": [
           {
            "marker": {
             "pattern": {
              "fillmode": "overlay",
              "size": 10,
              "solidity": 0.2
             }
            },
            "type": "histogram"
           }
          ],
          "histogram2d": [
           {
            "colorbar": {
             "outlinewidth": 0,
             "ticks": ""
            },
            "colorscale": [
             [
              0,
              "#0d0887"
             ],
             [
              0.1111111111111111,
              "#46039f"
             ],
             [
              0.2222222222222222,
              "#7201a8"
             ],
             [
              0.3333333333333333,
              "#9c179e"
             ],
             [
              0.4444444444444444,
              "#bd3786"
             ],
             [
              0.5555555555555556,
              "#d8576b"
             ],
             [
              0.6666666666666666,
              "#ed7953"
             ],
             [
              0.7777777777777778,
              "#fb9f3a"
             ],
             [
              0.8888888888888888,
              "#fdca26"
             ],
             [
              1,
              "#f0f921"
             ]
            ],
            "type": "histogram2d"
           }
          ],
          "histogram2dcontour": [
           {
            "colorbar": {
             "outlinewidth": 0,
             "ticks": ""
            },
            "colorscale": [
             [
              0,
              "#0d0887"
             ],
             [
              0.1111111111111111,
              "#46039f"
             ],
             [
              0.2222222222222222,
              "#7201a8"
             ],
             [
              0.3333333333333333,
              "#9c179e"
             ],
             [
              0.4444444444444444,
              "#bd3786"
             ],
             [
              0.5555555555555556,
              "#d8576b"
             ],
             [
              0.6666666666666666,
              "#ed7953"
             ],
             [
              0.7777777777777778,
              "#fb9f3a"
             ],
             [
              0.8888888888888888,
              "#fdca26"
             ],
             [
              1,
              "#f0f921"
             ]
            ],
            "type": "histogram2dcontour"
           }
          ],
          "mesh3d": [
           {
            "colorbar": {
             "outlinewidth": 0,
             "ticks": ""
            },
            "type": "mesh3d"
           }
          ],
          "parcoords": [
           {
            "line": {
             "colorbar": {
              "outlinewidth": 0,
              "ticks": ""
             }
            },
            "type": "parcoords"
           }
          ],
          "pie": [
           {
            "automargin": true,
            "type": "pie"
           }
          ],
          "scatter": [
           {
            "fillpattern": {
             "fillmode": "overlay",
             "size": 10,
             "solidity": 0.2
            },
            "type": "scatter"
           }
          ],
          "scatter3d": [
           {
            "line": {
             "colorbar": {
              "outlinewidth": 0,
              "ticks": ""
             }
            },
            "marker": {
             "colorbar": {
              "outlinewidth": 0,
              "ticks": ""
             }
            },
            "type": "scatter3d"
           }
          ],
          "scattercarpet": [
           {
            "marker": {
             "colorbar": {
              "outlinewidth": 0,
              "ticks": ""
             }
            },
            "type": "scattercarpet"
           }
          ],
          "scattergeo": [
           {
            "marker": {
             "colorbar": {
              "outlinewidth": 0,
              "ticks": ""
             }
            },
            "type": "scattergeo"
           }
          ],
          "scattergl": [
           {
            "marker": {
             "colorbar": {
              "outlinewidth": 0,
              "ticks": ""
             }
            },
            "type": "scattergl"
           }
          ],
          "scattermapbox": [
           {
            "marker": {
             "colorbar": {
              "outlinewidth": 0,
              "ticks": ""
             }
            },
            "type": "scattermapbox"
           }
          ],
          "scatterpolar": [
           {
            "marker": {
             "colorbar": {
              "outlinewidth": 0,
              "ticks": ""
             }
            },
            "type": "scatterpolar"
           }
          ],
          "scatterpolargl": [
           {
            "marker": {
             "colorbar": {
              "outlinewidth": 0,
              "ticks": ""
             }
            },
            "type": "scatterpolargl"
           }
          ],
          "scatterternary": [
           {
            "marker": {
             "colorbar": {
              "outlinewidth": 0,
              "ticks": ""
             }
            },
            "type": "scatterternary"
           }
          ],
          "surface": [
           {
            "colorbar": {
             "outlinewidth": 0,
             "ticks": ""
            },
            "colorscale": [
             [
              0,
              "#0d0887"
             ],
             [
              0.1111111111111111,
              "#46039f"
             ],
             [
              0.2222222222222222,
              "#7201a8"
             ],
             [
              0.3333333333333333,
              "#9c179e"
             ],
             [
              0.4444444444444444,
              "#bd3786"
             ],
             [
              0.5555555555555556,
              "#d8576b"
             ],
             [
              0.6666666666666666,
              "#ed7953"
             ],
             [
              0.7777777777777778,
              "#fb9f3a"
             ],
             [
              0.8888888888888888,
              "#fdca26"
             ],
             [
              1,
              "#f0f921"
             ]
            ],
            "type": "surface"
           }
          ],
          "table": [
           {
            "cells": {
             "fill": {
              "color": "#EBF0F8"
             },
             "line": {
              "color": "white"
             }
            },
            "header": {
             "fill": {
              "color": "#C8D4E3"
             },
             "line": {
              "color": "white"
             }
            },
            "type": "table"
           }
          ]
         },
         "layout": {
          "annotationdefaults": {
           "arrowcolor": "#2a3f5f",
           "arrowhead": 0,
           "arrowwidth": 1
          },
          "autotypenumbers": "strict",
          "coloraxis": {
           "colorbar": {
            "outlinewidth": 0,
            "ticks": ""
           }
          },
          "colorscale": {
           "diverging": [
            [
             0,
             "#8e0152"
            ],
            [
             0.1,
             "#c51b7d"
            ],
            [
             0.2,
             "#de77ae"
            ],
            [
             0.3,
             "#f1b6da"
            ],
            [
             0.4,
             "#fde0ef"
            ],
            [
             0.5,
             "#f7f7f7"
            ],
            [
             0.6,
             "#e6f5d0"
            ],
            [
             0.7,
             "#b8e186"
            ],
            [
             0.8,
             "#7fbc41"
            ],
            [
             0.9,
             "#4d9221"
            ],
            [
             1,
             "#276419"
            ]
           ],
           "sequential": [
            [
             0,
             "#0d0887"
            ],
            [
             0.1111111111111111,
             "#46039f"
            ],
            [
             0.2222222222222222,
             "#7201a8"
            ],
            [
             0.3333333333333333,
             "#9c179e"
            ],
            [
             0.4444444444444444,
             "#bd3786"
            ],
            [
             0.5555555555555556,
             "#d8576b"
            ],
            [
             0.6666666666666666,
             "#ed7953"
            ],
            [
             0.7777777777777778,
             "#fb9f3a"
            ],
            [
             0.8888888888888888,
             "#fdca26"
            ],
            [
             1,
             "#f0f921"
            ]
           ],
           "sequentialminus": [
            [
             0,
             "#0d0887"
            ],
            [
             0.1111111111111111,
             "#46039f"
            ],
            [
             0.2222222222222222,
             "#7201a8"
            ],
            [
             0.3333333333333333,
             "#9c179e"
            ],
            [
             0.4444444444444444,
             "#bd3786"
            ],
            [
             0.5555555555555556,
             "#d8576b"
            ],
            [
             0.6666666666666666,
             "#ed7953"
            ],
            [
             0.7777777777777778,
             "#fb9f3a"
            ],
            [
             0.8888888888888888,
             "#fdca26"
            ],
            [
             1,
             "#f0f921"
            ]
           ]
          },
          "colorway": [
           "#636efa",
           "#EF553B",
           "#00cc96",
           "#ab63fa",
           "#FFA15A",
           "#19d3f3",
           "#FF6692",
           "#B6E880",
           "#FF97FF",
           "#FECB52"
          ],
          "font": {
           "color": "#2a3f5f"
          },
          "geo": {
           "bgcolor": "white",
           "lakecolor": "white",
           "landcolor": "#E5ECF6",
           "showlakes": true,
           "showland": true,
           "subunitcolor": "white"
          },
          "hoverlabel": {
           "align": "left"
          },
          "hovermode": "closest",
          "mapbox": {
           "style": "light"
          },
          "paper_bgcolor": "white",
          "plot_bgcolor": "#E5ECF6",
          "polar": {
           "angularaxis": {
            "gridcolor": "white",
            "linecolor": "white",
            "ticks": ""
           },
           "bgcolor": "#E5ECF6",
           "radialaxis": {
            "gridcolor": "white",
            "linecolor": "white",
            "ticks": ""
           }
          },
          "scene": {
           "xaxis": {
            "backgroundcolor": "#E5ECF6",
            "gridcolor": "white",
            "gridwidth": 2,
            "linecolor": "white",
            "showbackground": true,
            "ticks": "",
            "zerolinecolor": "white"
           },
           "yaxis": {
            "backgroundcolor": "#E5ECF6",
            "gridcolor": "white",
            "gridwidth": 2,
            "linecolor": "white",
            "showbackground": true,
            "ticks": "",
            "zerolinecolor": "white"
           },
           "zaxis": {
            "backgroundcolor": "#E5ECF6",
            "gridcolor": "white",
            "gridwidth": 2,
            "linecolor": "white",
            "showbackground": true,
            "ticks": "",
            "zerolinecolor": "white"
           }
          },
          "shapedefaults": {
           "line": {
            "color": "#2a3f5f"
           }
          },
          "ternary": {
           "aaxis": {
            "gridcolor": "white",
            "linecolor": "white",
            "ticks": ""
           },
           "baxis": {
            "gridcolor": "white",
            "linecolor": "white",
            "ticks": ""
           },
           "bgcolor": "#E5ECF6",
           "caxis": {
            "gridcolor": "white",
            "linecolor": "white",
            "ticks": ""
           }
          },
          "title": {
           "x": 0.05
          },
          "xaxis": {
           "automargin": true,
           "gridcolor": "white",
           "linecolor": "white",
           "ticks": "",
           "title": {
            "standoff": 15
           },
           "zerolinecolor": "white",
           "zerolinewidth": 2
          },
          "yaxis": {
           "automargin": true,
           "gridcolor": "white",
           "linecolor": "white",
           "ticks": "",
           "title": {
            "standoff": 15
           },
           "zerolinecolor": "white",
           "zerolinewidth": 2
          }
         }
        },
        "title": {
         "text": "temperatura, predicción y real"
        },
        "xaxis": {
         "anchor": "y",
         "domain": [
          0,
          1
         ],
         "tickangle": -90
        },
        "yaxis": {
         "anchor": "x",
         "domain": [
          0,
          1
         ]
        }
       }
      }
     },
     "metadata": {},
     "output_type": "display_data"
    }
   ],
   "source": [
    "lrpm=0\n",
    "offset=0\n",
    "cut=168\n",
    "# px.line()\n",
    "pic1=go.Scatter(x=test[lrpm:cut+lrpm], y=temp_tot[lrpm:cut+lrpm],name='predict')\n",
    "pic2=go.Scatter(x=t_tot[lrpm:cut+lrpm], y=temp_real[lrpm:cut+lrpm],name='x_test_real')\n",
    "# pic3=go.Scatter(x=corte.index,y=corte['y'],name='real')\n",
    "fig = make_subplots(specs=[[{\"secondary_y\": False}]])\n",
    "fig.add_trace(pic1)\n",
    "fig.add_trace(pic2)\n",
    "# fig.add_trace(pic3)\n",
    "fig['layout'].update( title = 'temperatura, predicción y real',xaxis=dict(tickangle=-90))\n",
    "iplot(fig)\n",
    "\n"
   ]
  },
  {
   "cell_type": "code",
   "execution_count": 65,
   "metadata": {},
   "outputs": [
    {
     "name": "stdout",
     "output_type": "stream",
     "text": [
      "0.15297450903100082\n",
      "15.842113047977637\n",
      "2.924848192507858\n"
     ]
    }
   ],
   "source": [
    "error_rel_mape=np.average(np.abs(temp_real[1:]-temp_tot[:16356])/temp_real[1:])\n",
    "print(error_rel_mape)\n",
    "MSE=np.average((temp_real[1:]-temp_tot[:16356])**2)\n",
    "print(MSE)\n",
    "ME=np.average(np.abs(temp_real[1:]-temp_tot[:16356]))\n",
    "print(ME)"
   ]
  },
  {
   "cell_type": "code",
   "execution_count": 29,
   "metadata": {},
   "outputs": [
    {
     "data": {
      "text/html": [
       "<pre style=\"white-space:pre;overflow-x:auto;line-height:normal;font-family:Menlo,'DejaVu Sans Mono',consolas,'Courier New',monospace\"><span style=\"font-weight: bold\">Model: \"sequential_2\"</span>\n",
       "</pre>\n"
      ],
      "text/plain": [
       "\u001b[1mModel: \"sequential_2\"\u001b[0m\n"
      ]
     },
     "metadata": {},
     "output_type": "display_data"
    },
    {
     "data": {
      "text/html": [
       "<pre style=\"white-space:pre;overflow-x:auto;line-height:normal;font-family:Menlo,'DejaVu Sans Mono',consolas,'Courier New',monospace\">┏━━━━━━━━━━━━━━━━━━━━━━━━━━━━━━━━━┳━━━━━━━━━━━━━━━━━━━━━━━━┳━━━━━━━━━━━━━━━┓\n",
       "┃<span style=\"font-weight: bold\"> Layer (type)                    </span>┃<span style=\"font-weight: bold\"> Output Shape           </span>┃<span style=\"font-weight: bold\">       Param # </span>┃\n",
       "┡━━━━━━━━━━━━━━━━━━━━━━━━━━━━━━━━━╇━━━━━━━━━━━━━━━━━━━━━━━━╇━━━━━━━━━━━━━━━┩\n",
       "│ gru_4 (<span style=\"color: #0087ff; text-decoration-color: #0087ff\">GRU</span>)                     │ (<span style=\"color: #00d7ff; text-decoration-color: #00d7ff\">None</span>, <span style=\"color: #00af00; text-decoration-color: #00af00\">168</span>, <span style=\"color: #00af00; text-decoration-color: #00af00\">50</span>)        │         <span style=\"color: #00af00; text-decoration-color: #00af00\">9,150</span> │\n",
       "├─────────────────────────────────┼────────────────────────┼───────────────┤\n",
       "│ gru_5 (<span style=\"color: #0087ff; text-decoration-color: #0087ff\">GRU</span>)                     │ (<span style=\"color: #00d7ff; text-decoration-color: #00d7ff\">None</span>, <span style=\"color: #00af00; text-decoration-color: #00af00\">50</span>)             │        <span style=\"color: #00af00; text-decoration-color: #00af00\">15,300</span> │\n",
       "├─────────────────────────────────┼────────────────────────┼───────────────┤\n",
       "│ dense_2 (<span style=\"color: #0087ff; text-decoration-color: #0087ff\">Dense</span>)                 │ (<span style=\"color: #00d7ff; text-decoration-color: #00d7ff\">None</span>, <span style=\"color: #00af00; text-decoration-color: #00af00\">48</span>)             │         <span style=\"color: #00af00; text-decoration-color: #00af00\">2,448</span> │\n",
       "└─────────────────────────────────┴────────────────────────┴───────────────┘\n",
       "</pre>\n"
      ],
      "text/plain": [
       "┏━━━━━━━━━━━━━━━━━━━━━━━━━━━━━━━━━┳━━━━━━━━━━━━━━━━━━━━━━━━┳━━━━━━━━━━━━━━━┓\n",
       "┃\u001b[1m \u001b[0m\u001b[1mLayer (type)                   \u001b[0m\u001b[1m \u001b[0m┃\u001b[1m \u001b[0m\u001b[1mOutput Shape          \u001b[0m\u001b[1m \u001b[0m┃\u001b[1m \u001b[0m\u001b[1m      Param #\u001b[0m\u001b[1m \u001b[0m┃\n",
       "┡━━━━━━━━━━━━━━━━━━━━━━━━━━━━━━━━━╇━━━━━━━━━━━━━━━━━━━━━━━━╇━━━━━━━━━━━━━━━┩\n",
       "│ gru_4 (\u001b[38;5;33mGRU\u001b[0m)                     │ (\u001b[38;5;45mNone\u001b[0m, \u001b[38;5;34m168\u001b[0m, \u001b[38;5;34m50\u001b[0m)        │         \u001b[38;5;34m9,150\u001b[0m │\n",
       "├─────────────────────────────────┼────────────────────────┼───────────────┤\n",
       "│ gru_5 (\u001b[38;5;33mGRU\u001b[0m)                     │ (\u001b[38;5;45mNone\u001b[0m, \u001b[38;5;34m50\u001b[0m)             │        \u001b[38;5;34m15,300\u001b[0m │\n",
       "├─────────────────────────────────┼────────────────────────┼───────────────┤\n",
       "│ dense_2 (\u001b[38;5;33mDense\u001b[0m)                 │ (\u001b[38;5;45mNone\u001b[0m, \u001b[38;5;34m48\u001b[0m)             │         \u001b[38;5;34m2,448\u001b[0m │\n",
       "└─────────────────────────────────┴────────────────────────┴───────────────┘\n"
      ]
     },
     "metadata": {},
     "output_type": "display_data"
    },
    {
     "data": {
      "text/html": [
       "<pre style=\"white-space:pre;overflow-x:auto;line-height:normal;font-family:Menlo,'DejaVu Sans Mono',consolas,'Courier New',monospace\"><span style=\"font-weight: bold\"> Total params: </span><span style=\"color: #00af00; text-decoration-color: #00af00\">26,898</span> (105.07 KB)\n",
       "</pre>\n"
      ],
      "text/plain": [
       "\u001b[1m Total params: \u001b[0m\u001b[38;5;34m26,898\u001b[0m (105.07 KB)\n"
      ]
     },
     "metadata": {},
     "output_type": "display_data"
    },
    {
     "data": {
      "text/html": [
       "<pre style=\"white-space:pre;overflow-x:auto;line-height:normal;font-family:Menlo,'DejaVu Sans Mono',consolas,'Courier New',monospace\"><span style=\"font-weight: bold\"> Trainable params: </span><span style=\"color: #00af00; text-decoration-color: #00af00\">26,898</span> (105.07 KB)\n",
       "</pre>\n"
      ],
      "text/plain": [
       "\u001b[1m Trainable params: \u001b[0m\u001b[38;5;34m26,898\u001b[0m (105.07 KB)\n"
      ]
     },
     "metadata": {},
     "output_type": "display_data"
    },
    {
     "data": {
      "text/html": [
       "<pre style=\"white-space:pre;overflow-x:auto;line-height:normal;font-family:Menlo,'DejaVu Sans Mono',consolas,'Courier New',monospace\"><span style=\"font-weight: bold\"> Non-trainable params: </span><span style=\"color: #00af00; text-decoration-color: #00af00\">0</span> (0.00 B)\n",
       "</pre>\n"
      ],
      "text/plain": [
       "\u001b[1m Non-trainable params: \u001b[0m\u001b[38;5;34m0\u001b[0m (0.00 B)\n"
      ]
     },
     "metadata": {},
     "output_type": "display_data"
    },
    {
     "name": "stdout",
     "output_type": "stream",
     "text": [
      "Epoch 1/32\n",
      "\u001b[1m790/790\u001b[0m \u001b[32m━━━━━━━━━━━━━━━━━━━━\u001b[0m\u001b[37m\u001b[0m \u001b[1m71s\u001b[0m 85ms/step - loss: 0.0291 - val_loss: 0.0064\n",
      "Epoch 2/32\n",
      "\u001b[1m790/790\u001b[0m \u001b[32m━━━━━━━━━━━━━━━━━━━━\u001b[0m\u001b[37m\u001b[0m \u001b[1m67s\u001b[0m 85ms/step - loss: 0.0052 - val_loss: 0.0061\n",
      "Epoch 3/32\n",
      "\u001b[1m790/790\u001b[0m \u001b[32m━━━━━━━━━━━━━━━━━━━━\u001b[0m\u001b[37m\u001b[0m \u001b[1m67s\u001b[0m 84ms/step - loss: 0.0049 - val_loss: 0.0060\n",
      "Epoch 4/32\n",
      "\u001b[1m790/790\u001b[0m \u001b[32m━━━━━━━━━━━━━━━━━━━━\u001b[0m\u001b[37m\u001b[0m \u001b[1m68s\u001b[0m 86ms/step - loss: 0.0048 - val_loss: 0.0059\n",
      "Epoch 5/32\n",
      "\u001b[1m790/790\u001b[0m \u001b[32m━━━━━━━━━━━━━━━━━━━━\u001b[0m\u001b[37m\u001b[0m \u001b[1m67s\u001b[0m 85ms/step - loss: 0.0047 - val_loss: 0.0059\n",
      "Epoch 6/32\n",
      "\u001b[1m790/790\u001b[0m \u001b[32m━━━━━━━━━━━━━━━━━━━━\u001b[0m\u001b[37m\u001b[0m \u001b[1m67s\u001b[0m 85ms/step - loss: 0.0046 - val_loss: 0.0059\n",
      "Epoch 7/32\n",
      "\u001b[1m790/790\u001b[0m \u001b[32m━━━━━━━━━━━━━━━━━━━━\u001b[0m\u001b[37m\u001b[0m \u001b[1m67s\u001b[0m 84ms/step - loss: 0.0045 - val_loss: 0.0058\n",
      "Epoch 8/32\n",
      "\u001b[1m790/790\u001b[0m \u001b[32m━━━━━━━━━━━━━━━━━━━━\u001b[0m\u001b[37m\u001b[0m \u001b[1m67s\u001b[0m 85ms/step - loss: 0.0044 - val_loss: 0.0058\n",
      "Epoch 9/32\n",
      "\u001b[1m790/790\u001b[0m \u001b[32m━━━━━━━━━━━━━━━━━━━━\u001b[0m\u001b[37m\u001b[0m \u001b[1m69s\u001b[0m 87ms/step - loss: 0.0043 - val_loss: 0.0058\n",
      "Epoch 10/32\n",
      "\u001b[1m790/790\u001b[0m \u001b[32m━━━━━━━━━━━━━━━━━━━━\u001b[0m\u001b[37m\u001b[0m \u001b[1m66s\u001b[0m 83ms/step - loss: 0.0043 - val_loss: 0.0059\n",
      "Epoch 11/32\n",
      "\u001b[1m790/790\u001b[0m \u001b[32m━━━━━━━━━━━━━━━━━━━━\u001b[0m\u001b[37m\u001b[0m \u001b[1m67s\u001b[0m 84ms/step - loss: 0.0042 - val_loss: 0.0061\n",
      "Epoch 12/32\n",
      "\u001b[1m790/790\u001b[0m \u001b[32m━━━━━━━━━━━━━━━━━━━━\u001b[0m\u001b[37m\u001b[0m \u001b[1m67s\u001b[0m 85ms/step - loss: 0.0041 - val_loss: 0.0062\n",
      "Epoch 13/32\n",
      "\u001b[1m790/790\u001b[0m \u001b[32m━━━━━━━━━━━━━━━━━━━━\u001b[0m\u001b[37m\u001b[0m \u001b[1m86s\u001b[0m 109ms/step - loss: 0.0041 - val_loss: 0.0064\n",
      "Epoch 14/32\n",
      "\u001b[1m790/790\u001b[0m \u001b[32m━━━━━━━━━━━━━━━━━━━━\u001b[0m\u001b[37m\u001b[0m \u001b[1m94s\u001b[0m 119ms/step - loss: 0.0040 - val_loss: 0.0068\n",
      "Epoch 15/32\n",
      "\u001b[1m790/790\u001b[0m \u001b[32m━━━━━━━━━━━━━━━━━━━━\u001b[0m\u001b[37m\u001b[0m \u001b[1m78s\u001b[0m 98ms/step - loss: 0.0038 - val_loss: 0.0068\n",
      "Epoch 16/32\n",
      "\u001b[1m790/790\u001b[0m \u001b[32m━━━━━━━━━━━━━━━━━━━━\u001b[0m\u001b[37m\u001b[0m \u001b[1m66s\u001b[0m 84ms/step - loss: 0.0036 - val_loss: 0.0073\n",
      "Epoch 17/32\n",
      "\u001b[1m790/790\u001b[0m \u001b[32m━━━━━━━━━━━━━━━━━━━━\u001b[0m\u001b[37m\u001b[0m \u001b[1m68s\u001b[0m 86ms/step - loss: 0.0037 - val_loss: 0.0071\n",
      "Epoch 18/32\n",
      "\u001b[1m790/790\u001b[0m \u001b[32m━━━━━━━━━━━━━━━━━━━━\u001b[0m\u001b[37m\u001b[0m \u001b[1m68s\u001b[0m 86ms/step - loss: 0.0034 - val_loss: 0.0074\n",
      "Epoch 19/32\n",
      "\u001b[1m790/790\u001b[0m \u001b[32m━━━━━━━━━━━━━━━━━━━━\u001b[0m\u001b[37m\u001b[0m \u001b[1m68s\u001b[0m 86ms/step - loss: 0.0032 - val_loss: 0.0075\n",
      "Epoch 20/32\n",
      "\u001b[1m790/790\u001b[0m \u001b[32m━━━━━━━━━━━━━━━━━━━━\u001b[0m\u001b[37m\u001b[0m \u001b[1m67s\u001b[0m 85ms/step - loss: 0.0032 - val_loss: 0.0074\n",
      "Epoch 21/32\n",
      "\u001b[1m790/790\u001b[0m \u001b[32m━━━━━━━━━━━━━━━━━━━━\u001b[0m\u001b[37m\u001b[0m \u001b[1m68s\u001b[0m 86ms/step - loss: 0.0029 - val_loss: 0.0074\n",
      "Epoch 22/32\n",
      "\u001b[1m790/790\u001b[0m \u001b[32m━━━━━━━━━━━━━━━━━━━━\u001b[0m\u001b[37m\u001b[0m \u001b[1m68s\u001b[0m 86ms/step - loss: 0.0027 - val_loss: 0.0073\n",
      "Epoch 23/32\n",
      "\u001b[1m790/790\u001b[0m \u001b[32m━━━━━━━━━━━━━━━━━━━━\u001b[0m\u001b[37m\u001b[0m \u001b[1m68s\u001b[0m 85ms/step - loss: 0.0025 - val_loss: 0.0072\n",
      "Epoch 24/32\n",
      "\u001b[1m790/790\u001b[0m \u001b[32m━━━━━━━━━━━━━━━━━━━━\u001b[0m\u001b[37m\u001b[0m \u001b[1m67s\u001b[0m 85ms/step - loss: 0.0024 - val_loss: 0.0072\n",
      "Epoch 25/32\n",
      "\u001b[1m790/790\u001b[0m \u001b[32m━━━━━━━━━━━━━━━━━━━━\u001b[0m\u001b[37m\u001b[0m \u001b[1m68s\u001b[0m 86ms/step - loss: 0.0022 - val_loss: 0.0075\n",
      "Epoch 26/32\n",
      "\u001b[1m790/790\u001b[0m \u001b[32m━━━━━━━━━━━━━━━━━━━━\u001b[0m\u001b[37m\u001b[0m \u001b[1m69s\u001b[0m 87ms/step - loss: 0.0021 - val_loss: 0.0078\n",
      "Epoch 27/32\n",
      "\u001b[1m790/790\u001b[0m \u001b[32m━━━━━━━━━━━━━━━━━━━━\u001b[0m\u001b[37m\u001b[0m \u001b[1m65s\u001b[0m 82ms/step - loss: 0.0019 - val_loss: 0.0082\n",
      "Epoch 28/32\n",
      "\u001b[1m790/790\u001b[0m \u001b[32m━━━━━━━━━━━━━━━━━━━━\u001b[0m\u001b[37m\u001b[0m \u001b[1m65s\u001b[0m 82ms/step - loss: 0.0018 - val_loss: 0.0084\n",
      "Epoch 29/32\n",
      "\u001b[1m790/790\u001b[0m \u001b[32m━━━━━━━━━━━━━━━━━━━━\u001b[0m\u001b[37m\u001b[0m \u001b[1m65s\u001b[0m 82ms/step - loss: 0.0017 - val_loss: 0.0083\n",
      "Epoch 30/32\n",
      "\u001b[1m790/790\u001b[0m \u001b[32m━━━━━━━━━━━━━━━━━━━━\u001b[0m\u001b[37m\u001b[0m \u001b[1m65s\u001b[0m 82ms/step - loss: 0.0016 - val_loss: 0.0083\n",
      "Epoch 31/32\n",
      "\u001b[1m790/790\u001b[0m \u001b[32m━━━━━━━━━━━━━━━━━━━━\u001b[0m\u001b[37m\u001b[0m \u001b[1m65s\u001b[0m 82ms/step - loss: 0.0015 - val_loss: 0.0084\n",
      "Epoch 32/32\n",
      "\u001b[1m790/790\u001b[0m \u001b[32m━━━━━━━━━━━━━━━━━━━━\u001b[0m\u001b[37m\u001b[0m \u001b[1m64s\u001b[0m 82ms/step - loss: 0.0014 - val_loss: 0.0087\n"
     ]
    },
    {
     "data": {
      "text/plain": [
       "<keras.src.callbacks.history.History at 0x1fe9f22c2c0>"
      ]
     },
     "execution_count": 29,
     "metadata": {},
     "output_type": "execute_result"
    }
   ],
   "source": [
    "#full train\n",
    "\n",
    "model2 = Sequential()\n",
    "model2.add(GRU(units=50, return_sequences=True, input_shape=(n_lookback, n_columnas)))\n",
    "model2.add(GRU(units=50))\n",
    "model2.add(Dense(n_forecast))\n",
    "model2.summary()\n",
    "model2.compile(loss='mean_squared_error', optimizer='adam')\n",
    "model2.fit(X80_train, y80_train, epochs=32, batch_size=32,validation_data=(X80_val,y80_val))"
   ]
  },
  {
   "cell_type": "code",
   "execution_count": 77,
   "metadata": {},
   "outputs": [
    {
     "data": {
      "text/plain": [
       "['GRU80_20-10-12-scaler.gz']"
      ]
     },
     "execution_count": 77,
     "metadata": {},
     "output_type": "execute_result"
    }
   ],
   "source": [
    "model2.save('GRU80_20-10-12.keras')\n",
    "joblib.dump(np80_scaler,'GRU80_20-10-12-scaler.gz')"
   ]
  }
 ],
 "metadata": {
  "kernelspec": {
   "display_name": "Python 3",
   "language": "python",
   "name": "python3"
  },
  "language_info": {
   "codemirror_mode": {
    "name": "ipython",
    "version": 3
   },
   "file_extension": ".py",
   "mimetype": "text/x-python",
   "name": "python",
   "nbconvert_exporter": "python",
   "pygments_lexer": "ipython3",
   "version": "3.12.7"
  }
 },
 "nbformat": 4,
 "nbformat_minor": 2
}
